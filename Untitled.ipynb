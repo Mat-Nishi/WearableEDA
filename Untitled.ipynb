{
 "cells": [
  {
   "cell_type": "code",
   "execution_count": 1,
   "id": "b36ed6a2",
   "metadata": {},
   "outputs": [
    {
     "ename": "ModuleNotFoundError",
     "evalue": "No module named 'tensorflow_decision_forests'",
     "output_type": "error",
     "traceback": [
      "\u001b[1;31m---------------------------------------------------------------------------\u001b[0m",
      "\u001b[1;31mModuleNotFoundError\u001b[0m                       Traceback (most recent call last)",
      "Cell \u001b[1;32mIn [1], line 10\u001b[0m\n\u001b[0;32m      8\u001b[0m \u001b[38;5;28;01mimport\u001b[39;00m \u001b[38;5;21;01mseaborn\u001b[39;00m \u001b[38;5;28;01mas\u001b[39;00m \u001b[38;5;21;01msns\u001b[39;00m\n\u001b[0;32m      9\u001b[0m \u001b[38;5;28;01mimport\u001b[39;00m \u001b[38;5;21;01mtime\u001b[39;00m\u001b[38;5;241m,\u001b[39m \u001b[38;5;21;01mdatetime\u001b[39;00m\u001b[38;5;241m,\u001b[39m \u001b[38;5;21;01mos\u001b[39;00m\n\u001b[1;32m---> 10\u001b[0m \u001b[38;5;28;01mimport\u001b[39;00m \u001b[38;5;21;01mtensorflow_decision_forests\u001b[39;00m \u001b[38;5;28;01mas\u001b[39;00m \u001b[38;5;21;01mtfdf\u001b[39;00m\n\u001b[0;32m     11\u001b[0m \u001b[38;5;28;01mfrom\u001b[39;00m \u001b[38;5;21;01msklearn\u001b[39;00m\u001b[38;5;21;01m.\u001b[39;00m\u001b[38;5;21;01mmodel_selection\u001b[39;00m \u001b[38;5;28;01mimport\u001b[39;00m train_test_split\n",
      "\u001b[1;31mModuleNotFoundError\u001b[0m: No module named 'tensorflow_decision_forests'"
     ]
    }
   ],
   "source": [
    "#importando as dependencias necessarias\n",
    "import pandas as pd\n",
    "import csv\n",
    "import numpy as np\n",
    "#import itertools\n",
    "import matplotlib.pyplot as plt\n",
    "%matplotlib inline\n",
    "import seaborn as sns\n",
    "import time, datetime, os\n",
    "import tensorflow_decision_forests as tfdf\n",
    "from sklearn.model_selection import train_test_split"
   ]
  },
  {
   "cell_type": "code",
   "execution_count": null,
   "id": "b4c25af4",
   "metadata": {},
   "outputs": [],
   "source": [
    "#carregando o dataframe a partir do arquivo csv\n",
    "df = pd.read_csv('data/satu.csv')\n",
    "df.head()"
   ]
  },
  {
   "cell_type": "code",
   "execution_count": null,
   "id": "8915760b",
   "metadata": {},
   "outputs": [],
   "source": [
    "data = df[[\"heartRate\", \"ppgGreen\", \"ppgRed\", \"ppgIR\", \"saturation\",\"sleepiness\", \"pressure\", \"accelerometerX\", \"accelerometerY\", \"accelerometerZ\", \"gyroscopeX\", \"gyroscopeY\", \"gyroscopeZ\",\"lux\"]]\n",
    "data.head()"
   ]
  },
  {
   "cell_type": "code",
   "execution_count": null,
   "id": "3c163ace",
   "metadata": {},
   "outputs": [],
   "source": [
    "#verificando se existem dados faltando\n",
    "data.ppgGreen.replace(0, np.nan, inplace=True)\n",
    "data.ppgRed.replace(0, np.nan, inplace=True)\n",
    "data.heartRate.replace(0, np.nan, inplace=True)\n",
    "data.ppgIR.replace(0, np.nan, inplace=True)\n",
    "data.saturation.replace(0, np.nan, inplace=True)\n",
    "hm = sns.heatmap(data.isnull(),cbar=False,yticklabels=False,cmap = 'Blues')\n",
    "data.isna().sum()"
   ]
  },
  {
   "cell_type": "code",
   "execution_count": null,
   "id": "310f915f",
   "metadata": {},
   "outputs": [],
   "source": [
    "#substituindo os valores faltantes pela media da coluna (caso nao existam nao e necessario executar essa celula)\n",
    "#obs: apenas valido para valores numericos\n",
    "num_col = ['heartRate', \"saturation\"] # lista com as colunas que possuem valores faltantes\n",
    "for col in num_col:\n",
    "    data[col]=pd.to_numeric(data[col])\n",
    "    data[col].fillna(data[col].mean(), inplace=True)\n",
    "data.isna().sum()"
   ]
  },
  {
   "cell_type": "code",
   "execution_count": null,
   "id": "17f40152",
   "metadata": {},
   "outputs": [],
   "source": [
    "train_df, test_df = train_test_split(data, test_size=0.3)\n",
    "train.head()"
   ]
  }
 ],
 "metadata": {
  "kernelspec": {
   "display_name": "Python 3 (ipykernel)",
   "language": "python",
   "name": "python3"
  },
  "language_info": {
   "codemirror_mode": {
    "name": "ipython",
    "version": 3
   },
   "file_extension": ".py",
   "mimetype": "text/x-python",
   "name": "python",
   "nbconvert_exporter": "python",
   "pygments_lexer": "ipython3",
   "version": "3.10.7"
  }
 },
 "nbformat": 4,
 "nbformat_minor": 5
}
