{
 "cells": [
  {
   "cell_type": "code",
   "execution_count": 1,
   "id": "f14583c9",
   "metadata": {},
   "outputs": [],
   "source": [
    "#importando as dependencias necessarias\n",
    "import pandas as pd\n",
    "import json, csv\n",
    "import matplotlib.pyplot as plt\n",
    "%matplotlib inline\n",
    "import seaborn as sns\n",
    "import numpy as np"
   ]
  },
  {
   "cell_type": "code",
   "execution_count": 2,
   "id": "e7816b50",
   "metadata": {},
   "outputs": [
    {
     "name": "stdout",
     "output_type": "stream",
     "text": [
      "['dateTime', 'battery', 'fileSize', 'pressure', 'lux', 'heartRate', 'ecg', 'ppgGreen', 'ppgRed', 'ppgIR', 'saturation', 'accelerometerZ', 'accelerometerX', 'accelerometerY', 'gyroscopeZ', 'gyroscopeX', 'gyroscopeY'] 7ab504da804297cb\n"
     ]
    }
   ],
   "source": [
    "#---------------não executar-------------------\n",
    "with open('loggers/satu.bin', 'r') as file:\n",
    "    f = csv.reader(file)\n",
    "    header = next(f)\n",
    "    newHeader = [i.strip() for i in header[0:-1]]\n",
    "    idSmart = header[-1][11:]\n",
    "    print(newHeader, idSmart)\n",
    "\n",
    "    with open('data/satu.csv', 'w') as file:\n",
    "        w = csv.writer(file)\n",
    "        w.writerow(newHeader)\n",
    "        for row in f:\n",
    "            w.writerow(row)"
   ]
  },
  {
   "cell_type": "code",
   "execution_count": 3,
   "id": "b7c27721",
   "metadata": {},
   "outputs": [],
   "source": [
    "#definicao de variaveis\n",
    "items = ['battery', 'fileSize', 'pressure', 'lux', 'heartRate',\n",
    "         'ecg', 'ppg', 'saturation', 'accelerometerZ', 'accelerometerX',\n",
    "         'accelerometerY', 'gyroscopeZ', 'gyroscopeX', 'gyroscopeY']\n",
    "units = {'battery': 'bateria (%)',\n",
    "             'fileSize': 'armazenamento (MB)',\n",
    "             'pressure': 'pressao (hPa)',\n",
    "             'lux': 'luminosidade (lux)',\n",
    "             'heartRate': 'taxa de batimentos (bpm)',\n",
    "             'ecg': 'ecg cru (mV)',\n",
    "             'ppg': 'ppg cru (mV)',\n",
    "             'saturation': 'oxigenacao crua (mV)',\n",
    "             'accelerometerZ': 'aceleracao (m/s²)',\n",
    "             'accelerometerX': 'aceleracao (m/s²)',\n",
    "             'accelerometerY': 'aceleracao (m/s²)',\n",
    "             'gyroscopeZ': 'giroscopio (rad/s)',\n",
    "             'gyroscopeX': 'giroscopio (rad/s)',\n",
    "             'gyroscopeY': 'giroscopio (rad/s)'}"
   ]
  },
  {
   "cell_type": "code",
   "execution_count": 4,
   "id": "c2e4468a",
   "metadata": {},
   "outputs": [
    {
     "data": {
      "text/html": [
       "<div>\n",
       "<style scoped>\n",
       "    .dataframe tbody tr th:only-of-type {\n",
       "        vertical-align: middle;\n",
       "    }\n",
       "\n",
       "    .dataframe tbody tr th {\n",
       "        vertical-align: top;\n",
       "    }\n",
       "\n",
       "    .dataframe thead th {\n",
       "        text-align: right;\n",
       "    }\n",
       "</style>\n",
       "<table border=\"1\" class=\"dataframe\">\n",
       "  <thead>\n",
       "    <tr style=\"text-align: right;\">\n",
       "      <th></th>\n",
       "      <th>dateTime</th>\n",
       "      <th>battery</th>\n",
       "      <th>fileSize</th>\n",
       "      <th>pressure</th>\n",
       "      <th>lux</th>\n",
       "      <th>heartRate</th>\n",
       "      <th>ecg</th>\n",
       "      <th>ppgGreen</th>\n",
       "      <th>ppgRed</th>\n",
       "      <th>ppgIR</th>\n",
       "      <th>saturation</th>\n",
       "      <th>accelerometerZ</th>\n",
       "      <th>accelerometerX</th>\n",
       "      <th>accelerometerY</th>\n",
       "      <th>gyroscopeZ</th>\n",
       "      <th>gyroscopeX</th>\n",
       "      <th>gyroscopeY</th>\n",
       "    </tr>\n",
       "  </thead>\n",
       "  <tbody>\n",
       "    <tr>\n",
       "      <th>1</th>\n",
       "      <td>2022-03-17T15:04:40-03:00</td>\n",
       "      <td>57.0</td>\n",
       "      <td>0.000274</td>\n",
       "      <td>0.0000</td>\n",
       "      <td>0.0</td>\n",
       "      <td>0.0</td>\n",
       "      <td>0.0</td>\n",
       "      <td>0.0</td>\n",
       "      <td>0.0</td>\n",
       "      <td>699040.0</td>\n",
       "      <td>0.0</td>\n",
       "      <td>0.000000</td>\n",
       "      <td>0.000000</td>\n",
       "      <td>0.000000</td>\n",
       "      <td>0.0</td>\n",
       "      <td>0.0</td>\n",
       "      <td>0.0</td>\n",
       "    </tr>\n",
       "    <tr>\n",
       "      <th>2</th>\n",
       "      <td>2022-03-17T15:04:40-03:00</td>\n",
       "      <td>57.0</td>\n",
       "      <td>0.000374</td>\n",
       "      <td>914.7395</td>\n",
       "      <td>0.0</td>\n",
       "      <td>0.0</td>\n",
       "      <td>0.0</td>\n",
       "      <td>0.0</td>\n",
       "      <td>458336.0</td>\n",
       "      <td>547999.0</td>\n",
       "      <td>0.0</td>\n",
       "      <td>0.000000</td>\n",
       "      <td>0.000000</td>\n",
       "      <td>0.000000</td>\n",
       "      <td>0.0</td>\n",
       "      <td>0.0</td>\n",
       "      <td>0.0</td>\n",
       "    </tr>\n",
       "    <tr>\n",
       "      <th>3</th>\n",
       "      <td>2022-03-17T15:04:41-03:00</td>\n",
       "      <td>57.0</td>\n",
       "      <td>0.000484</td>\n",
       "      <td>914.7395</td>\n",
       "      <td>0.0</td>\n",
       "      <td>0.0</td>\n",
       "      <td>0.0</td>\n",
       "      <td>0.0</td>\n",
       "      <td>459028.0</td>\n",
       "      <td>548931.0</td>\n",
       "      <td>0.0</td>\n",
       "      <td>-3.095703</td>\n",
       "      <td>2.566584</td>\n",
       "      <td>12.902353</td>\n",
       "      <td>0.0</td>\n",
       "      <td>0.0</td>\n",
       "      <td>0.0</td>\n",
       "    </tr>\n",
       "    <tr>\n",
       "      <th>4</th>\n",
       "      <td>2022-03-17T15:04:41-03:00</td>\n",
       "      <td>57.0</td>\n",
       "      <td>0.000609</td>\n",
       "      <td>914.7395</td>\n",
       "      <td>0.0</td>\n",
       "      <td>0.0</td>\n",
       "      <td>0.0</td>\n",
       "      <td>0.0</td>\n",
       "      <td>459635.0</td>\n",
       "      <td>549765.0</td>\n",
       "      <td>0.0</td>\n",
       "      <td>-3.095703</td>\n",
       "      <td>2.566584</td>\n",
       "      <td>12.902353</td>\n",
       "      <td>0.0</td>\n",
       "      <td>0.0</td>\n",
       "      <td>0.0</td>\n",
       "    </tr>\n",
       "    <tr>\n",
       "      <th>5</th>\n",
       "      <td>2022-03-17T15:04:41-03:00</td>\n",
       "      <td>57.0</td>\n",
       "      <td>0.000734</td>\n",
       "      <td>914.7395</td>\n",
       "      <td>0.0</td>\n",
       "      <td>0.0</td>\n",
       "      <td>0.0</td>\n",
       "      <td>0.0</td>\n",
       "      <td>460087.0</td>\n",
       "      <td>551262.0</td>\n",
       "      <td>0.0</td>\n",
       "      <td>-3.095703</td>\n",
       "      <td>2.566584</td>\n",
       "      <td>12.902353</td>\n",
       "      <td>0.0</td>\n",
       "      <td>0.0</td>\n",
       "      <td>0.0</td>\n",
       "    </tr>\n",
       "  </tbody>\n",
       "</table>\n",
       "</div>"
      ],
      "text/plain": [
       "                    dateTime  battery  fileSize  pressure  lux  heartRate  \\\n",
       "1  2022-03-17T15:04:40-03:00     57.0  0.000274    0.0000  0.0        0.0   \n",
       "2  2022-03-17T15:04:40-03:00     57.0  0.000374  914.7395  0.0        0.0   \n",
       "3  2022-03-17T15:04:41-03:00     57.0  0.000484  914.7395  0.0        0.0   \n",
       "4  2022-03-17T15:04:41-03:00     57.0  0.000609  914.7395  0.0        0.0   \n",
       "5  2022-03-17T15:04:41-03:00     57.0  0.000734  914.7395  0.0        0.0   \n",
       "\n",
       "   ecg  ppgGreen    ppgRed     ppgIR  saturation  accelerometerZ  \\\n",
       "1  0.0       0.0       0.0  699040.0         0.0        0.000000   \n",
       "2  0.0       0.0  458336.0  547999.0         0.0        0.000000   \n",
       "3  0.0       0.0  459028.0  548931.0         0.0       -3.095703   \n",
       "4  0.0       0.0  459635.0  549765.0         0.0       -3.095703   \n",
       "5  0.0       0.0  460087.0  551262.0         0.0       -3.095703   \n",
       "\n",
       "   accelerometerX  accelerometerY  gyroscopeZ  gyroscopeX  gyroscopeY  \n",
       "1        0.000000        0.000000         0.0         0.0         0.0  \n",
       "2        0.000000        0.000000         0.0         0.0         0.0  \n",
       "3        2.566584       12.902353         0.0         0.0         0.0  \n",
       "4        2.566584       12.902353         0.0         0.0         0.0  \n",
       "5        2.566584       12.902353         0.0         0.0         0.0  "
      ]
     },
     "execution_count": 4,
     "metadata": {},
     "output_type": "execute_result"
    }
   ],
   "source": [
    "#Carregando os dados para um dataframe\n",
    "df = pd.read_csv('data/satu.csv')\n",
    "df = df.iloc[1: , :]\n",
    "df.head()"
   ]
  },
  {
   "cell_type": "code",
   "execution_count": 5,
   "id": "6615e873",
   "metadata": {},
   "outputs": [
    {
     "data": {
      "text/html": [
       "<div>\n",
       "<style scoped>\n",
       "    .dataframe tbody tr th:only-of-type {\n",
       "        vertical-align: middle;\n",
       "    }\n",
       "\n",
       "    .dataframe tbody tr th {\n",
       "        vertical-align: top;\n",
       "    }\n",
       "\n",
       "    .dataframe thead th {\n",
       "        text-align: right;\n",
       "    }\n",
       "</style>\n",
       "<table border=\"1\" class=\"dataframe\">\n",
       "  <thead>\n",
       "    <tr style=\"text-align: right;\">\n",
       "      <th></th>\n",
       "      <th>battery</th>\n",
       "      <th>fileSize</th>\n",
       "      <th>pressure</th>\n",
       "      <th>lux</th>\n",
       "      <th>heartRate</th>\n",
       "      <th>ecg</th>\n",
       "      <th>ppgGreen</th>\n",
       "      <th>ppgRed</th>\n",
       "      <th>ppgIR</th>\n",
       "      <th>saturation</th>\n",
       "      <th>accelerometerZ</th>\n",
       "      <th>accelerometerX</th>\n",
       "      <th>accelerometerY</th>\n",
       "      <th>gyroscopeZ</th>\n",
       "      <th>gyroscopeX</th>\n",
       "      <th>gyroscopeY</th>\n",
       "      <th>dateTime</th>\n",
       "    </tr>\n",
       "  </thead>\n",
       "  <tbody>\n",
       "    <tr>\n",
       "      <th>1</th>\n",
       "      <td>57.0</td>\n",
       "      <td>0.000274</td>\n",
       "      <td>0.0000</td>\n",
       "      <td>0.0</td>\n",
       "      <td>0.0</td>\n",
       "      <td>0.0</td>\n",
       "      <td>0.0</td>\n",
       "      <td>0.0</td>\n",
       "      <td>699040.0</td>\n",
       "      <td>0.0</td>\n",
       "      <td>0.000000</td>\n",
       "      <td>0.000000</td>\n",
       "      <td>0.000000</td>\n",
       "      <td>0.0</td>\n",
       "      <td>0.0</td>\n",
       "      <td>0.0</td>\n",
       "      <td>0.00</td>\n",
       "    </tr>\n",
       "    <tr>\n",
       "      <th>2</th>\n",
       "      <td>57.0</td>\n",
       "      <td>0.000374</td>\n",
       "      <td>914.7395</td>\n",
       "      <td>0.0</td>\n",
       "      <td>0.0</td>\n",
       "      <td>0.0</td>\n",
       "      <td>0.0</td>\n",
       "      <td>458336.0</td>\n",
       "      <td>547999.0</td>\n",
       "      <td>0.0</td>\n",
       "      <td>0.000000</td>\n",
       "      <td>0.000000</td>\n",
       "      <td>0.000000</td>\n",
       "      <td>0.0</td>\n",
       "      <td>0.0</td>\n",
       "      <td>0.0</td>\n",
       "      <td>0.05</td>\n",
       "    </tr>\n",
       "    <tr>\n",
       "      <th>3</th>\n",
       "      <td>57.0</td>\n",
       "      <td>0.000484</td>\n",
       "      <td>914.7395</td>\n",
       "      <td>0.0</td>\n",
       "      <td>0.0</td>\n",
       "      <td>0.0</td>\n",
       "      <td>0.0</td>\n",
       "      <td>459028.0</td>\n",
       "      <td>548931.0</td>\n",
       "      <td>0.0</td>\n",
       "      <td>-3.095703</td>\n",
       "      <td>2.566584</td>\n",
       "      <td>12.902353</td>\n",
       "      <td>0.0</td>\n",
       "      <td>0.0</td>\n",
       "      <td>0.0</td>\n",
       "      <td>0.10</td>\n",
       "    </tr>\n",
       "    <tr>\n",
       "      <th>4</th>\n",
       "      <td>57.0</td>\n",
       "      <td>0.000609</td>\n",
       "      <td>914.7395</td>\n",
       "      <td>0.0</td>\n",
       "      <td>0.0</td>\n",
       "      <td>0.0</td>\n",
       "      <td>0.0</td>\n",
       "      <td>459635.0</td>\n",
       "      <td>549765.0</td>\n",
       "      <td>0.0</td>\n",
       "      <td>-3.095703</td>\n",
       "      <td>2.566584</td>\n",
       "      <td>12.902353</td>\n",
       "      <td>0.0</td>\n",
       "      <td>0.0</td>\n",
       "      <td>0.0</td>\n",
       "      <td>0.15</td>\n",
       "    </tr>\n",
       "    <tr>\n",
       "      <th>5</th>\n",
       "      <td>57.0</td>\n",
       "      <td>0.000734</td>\n",
       "      <td>914.7395</td>\n",
       "      <td>0.0</td>\n",
       "      <td>0.0</td>\n",
       "      <td>0.0</td>\n",
       "      <td>0.0</td>\n",
       "      <td>460087.0</td>\n",
       "      <td>551262.0</td>\n",
       "      <td>0.0</td>\n",
       "      <td>-3.095703</td>\n",
       "      <td>2.566584</td>\n",
       "      <td>12.902353</td>\n",
       "      <td>0.0</td>\n",
       "      <td>0.0</td>\n",
       "      <td>0.0</td>\n",
       "      <td>0.20</td>\n",
       "    </tr>\n",
       "  </tbody>\n",
       "</table>\n",
       "</div>"
      ],
      "text/plain": [
       "   battery  fileSize  pressure  lux  heartRate  ecg  ppgGreen    ppgRed  \\\n",
       "1     57.0  0.000274    0.0000  0.0        0.0  0.0       0.0       0.0   \n",
       "2     57.0  0.000374  914.7395  0.0        0.0  0.0       0.0  458336.0   \n",
       "3     57.0  0.000484  914.7395  0.0        0.0  0.0       0.0  459028.0   \n",
       "4     57.0  0.000609  914.7395  0.0        0.0  0.0       0.0  459635.0   \n",
       "5     57.0  0.000734  914.7395  0.0        0.0  0.0       0.0  460087.0   \n",
       "\n",
       "      ppgIR  saturation  accelerometerZ  accelerometerX  accelerometerY  \\\n",
       "1  699040.0         0.0        0.000000        0.000000        0.000000   \n",
       "2  547999.0         0.0        0.000000        0.000000        0.000000   \n",
       "3  548931.0         0.0       -3.095703        2.566584       12.902353   \n",
       "4  549765.0         0.0       -3.095703        2.566584       12.902353   \n",
       "5  551262.0         0.0       -3.095703        2.566584       12.902353   \n",
       "\n",
       "   gyroscopeZ  gyroscopeX  gyroscopeY  dateTime  \n",
       "1         0.0         0.0         0.0      0.00  \n",
       "2         0.0         0.0         0.0      0.05  \n",
       "3         0.0         0.0         0.0      0.10  \n",
       "4         0.0         0.0         0.0      0.15  \n",
       "5         0.0         0.0         0.0      0.20  "
      ]
     },
     "execution_count": 5,
     "metadata": {},
     "output_type": "execute_result"
    }
   ],
   "source": [
    "#Formatando os valores de dateTime para numerico\n",
    "time = np.arange(0, df.ppgRed.size*0.05, 0.05)\n",
    "df.drop('dateTime', axis = 1, inplace=True)\n",
    "df['dateTime'] = time\n",
    "df.head()"
   ]
  },
  {
   "cell_type": "code",
   "execution_count": 6,
   "id": "6be1c1bc",
   "metadata": {},
   "outputs": [
    {
     "name": "stdout",
     "output_type": "stream",
     "text": [
      "(14, 6159863.25, 6224369.25)\n"
     ]
    }
   ],
   "source": [
    "#calculando o numero de outliers\n",
    "def outlierCount(df, var):\n",
    "    q1= df[var].quantile(0.25)\n",
    "    q3 = df[var].quantile(0.75)\n",
    "    iqRange = q3 - q1\n",
    "    maxVal = q3 + 1.5 * iqRange\n",
    "    minVal = q1 - 1.5 * iqRange\n",
    "    count = len(df[(df[var] < minVal)]) + len(df[(df[var] > maxVal)])\n",
    "    return count, minVal, maxVal\n",
    "\n",
    "print(outlierCount(df, 'ppgRed'))"
   ]
  },
  {
   "cell_type": "code",
   "execution_count": 7,
   "id": "d71d0006",
   "metadata": {},
   "outputs": [
    {
     "name": "stdout",
     "output_type": "stream",
     "text": [
      "(1, 6160295.5, 6224251.5)\n"
     ]
    }
   ],
   "source": [
    "#removendo outliers\n",
    "def removeOutliers(df, var):\n",
    "    count, minVal, maxVal = outlierCount(df, var)\n",
    "    newDf = df[(df[var] > minVal) & (df[var] < maxVal)]\n",
    "    return newDf\n",
    "    \n",
    "noOutliers = removeOutliers(df, 'ppgRed')\n",
    "print(outlierCount(noOutliers, 'ppgRed'))"
   ]
  },
  {
   "cell_type": "code",
   "execution_count": 8,
   "id": "c7c70c91",
   "metadata": {},
   "outputs": [
    {
     "name": "stdout",
     "output_type": "stream",
     "text": [
      "(1, 6246053.125, 6291406.125)\n"
     ]
    }
   ],
   "source": [
    "new_df = removeOutliers(noOutliers, 'ppgIR')\n",
    "print(outlierCount(new_df, 'ppgIR'))"
   ]
  },
  {
   "cell_type": "code",
   "execution_count": 9,
   "id": "0c30508f",
   "metadata": {},
   "outputs": [
    {
     "data": {
      "text/plain": [
       "[<matplotlib.lines.Line2D at 0x19cde7b7580>]"
      ]
     },
     "execution_count": 9,
     "metadata": {},
     "output_type": "execute_result"
    },
    {
     "data": {
      "image/png": "[encoded data removed]",
      "text/plain": [
       "<Figure size 432x288 with 1 Axes>"
      ]
     },
     "metadata": {
      "needs_background": "light"
     },
     "output_type": "display_data"
    }
   ],
   "source": [
    "#visualizando parte da curva para ppgRed\n",
    "x = new_df.dateTime[100:500]\n",
    "y = new_df.ppgRed[100:500]\n",
    "plt.plot(x,y)"
   ]
  },
  {
   "cell_type": "code",
   "execution_count": 10,
   "id": "4db1c267",
   "metadata": {},
   "outputs": [
    {
     "data": {
      "text/plain": [
       "[<matplotlib.lines.Line2D at 0x19cde8a67c0>]"
      ]
     },
     "execution_count": 10,
     "metadata": {},
     "output_type": "execute_result"
    },
    {
     "data": {
      "image/png": "[encoded data removed]",
      "text/plain": [
       "<Figure size 432x288 with 1 Axes>"
      ]
     },
     "metadata": {
      "needs_background": "light"
     },
     "output_type": "display_data"
    }
   ],
   "source": [
    "#visualizando parte da curva para ppgIR\n",
    "y = new_df.ppgIR[100:500]\n",
    "plt.plot(x,y)"
   ]
  },
  {
   "cell_type": "code",
   "execution_count": 11,
   "id": "5d2c331a",
   "metadata": {},
   "outputs": [
    {
     "name": "stderr",
     "output_type": "stream",
     "text": [
      "C:\\Users\\lapto\\AppData\\Local\\Temp\\ipykernel_9444\\1027245355.py:1: SettingWithCopyWarning: \n",
      "A value is trying to be set on a copy of a slice from a DataFrame.\n",
      "Try using .loc[row_indexer,col_indexer] = value instead\n",
      "\n",
      "See the caveats in the documentation: https://pandas.pydata.org/pandas-docs/stable/user_guide/indexing.html#returning-a-view-versus-a-copy\n",
      "  new_df['smaRed'] = new_df.ppgRed.rolling(10, min_periods=1).mean()\n"
     ]
    },
    {
     "data": {
      "text/plain": [
       "[<matplotlib.lines.Line2D at 0x19cde91aaf0>]"
      ]
     },
     "execution_count": 11,
     "metadata": {},
     "output_type": "execute_result"
    },
    {
     "data": {
      "image/png": "[encoded data removed]",
      "text/plain": [
       "<Figure size 432x288 with 1 Axes>"
      ]
     },
     "metadata": {
      "needs_background": "light"
     },
     "output_type": "display_data"
    }
   ],
   "source": [
    "#tratando as leituras por filtro de media movel\n",
    "new_df['smaRed'] = new_df.ppgRed.rolling(10, min_periods=1).mean()\n",
    "x = new_df.dateTime[250:320]\n",
    "y = new_df.smaRed[250:320]\n",
    "plt.plot(x,y)"
   ]
  },
  {
   "cell_type": "code",
   "execution_count": 12,
   "id": "f0bc31d6",
   "metadata": {},
   "outputs": [],
   "source": [
    "def rms(arr):\n",
    "    peak = max(arr)\n",
    "    return 0.7071*peak\n",
    "\n",
    "def mean(arr):\n",
    "    arr.sort()\n",
    "    if len(arr)%2:\n",
    "        return arr[int(len(arr)/2)]\n",
    "    else:\n",
    "        a = arr[int(len(arr)/2)]\n",
    "        b = arr[int(len(arr)/2)-1]\n",
    "        return (a+b)/2"
   ]
  },
  {
   "cell_type": "code",
   "execution_count": 13,
   "id": "ddb25000",
   "metadata": {},
   "outputs": [
    {
     "name": "stderr",
     "output_type": "stream",
     "text": [
      "C:\\Users\\lapto\\AppData\\Local\\Temp\\ipykernel_9444\\2321183417.py:27: SettingWithCopyWarning: \n",
      "A value is trying to be set on a copy of a slice from a DataFrame.\n",
      "Try using .loc[row_indexer,col_indexer] = value instead\n",
      "\n",
      "See the caveats in the documentation: https://pandas.pydata.org/pandas-docs/stable/user_guide/indexing.html#returning-a-view-versus-a-copy\n",
      "  df['calculatedSaturation'] = saturation\n"
     ]
    },
    {
     "data": {
      "text/plain": [
       "24      84.988472\n",
       "25      84.988472\n",
       "26      84.988472\n",
       "27      84.988472\n",
       "28      84.988472\n",
       "          ...    \n",
       "1643    84.999548\n",
       "1644    84.999548\n",
       "1645    84.999548\n",
       "1646    84.999548\n",
       "1647    84.999548\n",
       "Name: calculatedSaturation, Length: 1620, dtype: float64"
      ]
     },
     "execution_count": 13,
     "metadata": {},
     "output_type": "execute_result"
    }
   ],
   "source": [
    "#calculo da saturacao em intervalos (de leituras) definidos\n",
    "def saturation(df, interval):\n",
    "    redRms = []\n",
    "    redMean = []\n",
    "    irRms = []\n",
    "    irMean = []\n",
    "    red = df.ppgRed.tolist()\n",
    "    ir = df.ppgIR.tolist()\n",
    "    \n",
    "    redSplit = [red[x:x+interval] for x in range(0, len(red), interval)]\n",
    "    irSplit = [ir[x:x+interval] for x in range(0, len(ir), interval)]\n",
    "    \n",
    "    for chunk in redSplit:\n",
    "        redRms.append(rms(chunk))\n",
    "        redMean.append(mean(chunk))\n",
    "    for chunk in irSplit:\n",
    "        irRms.append(rms(chunk))\n",
    "        irMean.append(mean(chunk))\n",
    "        \n",
    "    saturation = []\n",
    "    for i in range(len(redRms)):\n",
    "        sat = (redRms[i]/redMean[i])/(irRms[i]/irMean[i])\n",
    "        sat = 110 - (25*sat)\n",
    "        #saturation.append(sat)\n",
    "        for j in range(interval):\n",
    "            saturation.append(sat)\n",
    "            \n",
    "    df['calculatedSaturation'] = saturation\n",
    "    \n",
    "saturation(new_df, 10)\n",
    "new_df.calculatedSaturation\n",
    "            "
   ]
  },
  {
   "cell_type": "code",
   "execution_count": null,
   "id": "b966c81d",
   "metadata": {},
   "outputs": [],
   "source": []
  }
 ],
 "metadata": {
  "kernelspec": {
   "display_name": "Python 3 (ipykernel)",
   "language": "python",
   "name": "python3"
  },
  "language_info": {
   "codemirror_mode": {
    "name": "ipython",
    "version": 3
   },
   "file_extension": ".py",
   "mimetype": "text/x-python",
   "name": "python",
   "nbconvert_exporter": "python",
   "pygments_lexer": "ipython3",
   "version": "3.9.7"
  }
 },
 "nbformat": 4,
 "nbformat_minor": 5
}
