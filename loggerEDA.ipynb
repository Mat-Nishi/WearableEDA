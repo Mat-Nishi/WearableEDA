{
 "cells": [
  {
   "cell_type": "code",
   "execution_count": 1,
   "id": "c69a3007-849c-4d5d-a709-af4ced76c808",
   "metadata": {},
   "outputs": [],
   "source": [
    "#importando as dependencias necessarias\n",
    "import pandas as pd\n",
    "import json, csv\n",
    "import matplotlib.pyplot as plt\n",
    "%matplotlib inline\n",
    "import seaborn as sns\n",
    "import numpy as np\n",
    "from scipy.stats import pearsonr, spearmanr\n",
    "import itertools\n",
    "import time, datetime, os"
   ]
  },
  {
   "cell_type": "code",
   "execution_count": null,
   "id": "372a9f97-9627-435d-8e23-cac406bbb26a",
   "metadata": {},
   "outputs": [],
   "source": [
    "#formatando o arquivo de logger para ser compativel com o pandas\n",
    "#obs: o arquivo de logger sera sobreescrito (podendo nao ser necesssario executar essa celula para determinado arquivo)\n",
    "dic = {'ID_smartwatch':[], 'dateTime':[], 'battery':[], 'fileSize':[], 'pressure':[], 'lux':[], 'heartRate':[],\n",
    "         'ecg':[], 'ppg':[], 'saturation':[], 'accelerometerZ':[], 'accelerometerX':[],\n",
    "         'accelerometerY':[], 'gyroscopeZ':[], 'gyroscopeX':[], 'gyroscopeY':[]}\n",
    "\n",
    "for filename in os.listdir(\"loggers\"):\n",
    "    print(filename)\n",
    "    with open('loggers/'+filename, 'r') as file:\n",
    "        d = file.read()\n",
    "        f = json.loads(d)\n",
    "        for key in f:\n",
    "            dic[key] = dic[key] + list(f[key][0][1:-1].split(', '))\n",
    "        \n",
    "dic['ID_smartwatch'] = dic['ID_smartwatch'][0]\n",
    "with open('data/logger.json', 'w') as file:\n",
    "    file.write(json.dumps(dic))\n",
    "\n",
    "\"\"\"\n",
    "with open('data/loggerECG.json', 'r+') as file:\n",
    "    dic = file.read()\n",
    "    f = json.loads(dic)\n",
    "    for key in f:\n",
    "        f[key] = list(f[key][0][1:-1].split(', '))\n",
    "\n",
    "    for key in f:\n",
    "        d = {}\n",
    "        for i in range(len(f[key])):\n",
    "            d[i] = f[key][i]\n",
    "        f[key] = d\n",
    "    file.seek(0)\n",
    "    file.write(json.dumps(f))\n",
    "    file.truncate()\n",
    "\"\"\""
   ]
  },
  {
   "cell_type": "code",
   "execution_count": 2,
   "id": "3e5d1c58",
   "metadata": {},
   "outputs": [
    {
     "name": "stdout",
     "output_type": "stream",
     "text": [
      "['dateTime', 'battery', 'fileSize', 'pressure', 'lux', 'heartRate', 'ecg', 'ppgGreen', 'ppgRed', 'ppgIR', 'saturation', 'accelerometerZ', 'accelerometerX', 'accelerometerY', 'gyroscopeZ', 'gyroscopeX', 'gyroscopeY'] 7ab504da804297cb\n"
     ]
    }
   ],
   "source": [
    "#para arquivos.bin\n",
    "with open('loggers/satu.bin', 'r') as file:\n",
    "    f = csv.reader(file)\n",
    "    header = next(f)\n",
    "    newHeader = [i.strip() for i in header[0:-1]]\n",
    "    idSmart = header[-1][11:]\n",
    "    print(newHeader, idSmart)\n",
    "\n",
    "    with open('data/satu.csv', 'w') as file:\n",
    "        w = csv.writer(file)\n",
    "        w.writerow(newHeader)\n",
    "        for row in f:\n",
    "            w.writerow(row)"
   ]
  },
  {
   "cell_type": "code",
   "execution_count": 2,
   "id": "1bb6a7b3-8d30-4ee6-a6a2-3cc25623bd01",
   "metadata": {},
   "outputs": [],
   "source": [
    "#definicao de variaveis\n",
    "items = ['battery', 'fileSize', 'pressure', 'lux', 'heartRate',\n",
    "         'ecg', 'ppg', 'saturation', 'accelerometerZ', 'accelerometerX',\n",
    "         'accelerometerY', 'gyroscopeZ', 'gyroscopeX', 'gyroscopeY']\n",
    "units = {'battery': 'bateria (%)',\n",
    "             'fileSize': 'armazenamento (MB)',\n",
    "             'pressure': 'pressao (hPa)',\n",
    "             'lux': 'luminosidade (lux)',\n",
    "             'heartRate': 'taxa de batimentos (bpm)',\n",
    "             'ecg': 'ecg cru (mV)',\n",
    "             'ppg': 'ppg cru (mV)',\n",
    "             'saturation': 'oxigenacao crua (mV)',\n",
    "             'accelerometerZ': 'aceleracao (m/s²)',\n",
    "             'accelerometerX': 'aceleracao (m/s²)',\n",
    "             'accelerometerY': 'aceleracao (m/s²)',\n",
    "             'gyroscopeZ': 'giroscopio (rad/s)',\n",
    "             'gyroscopeX': 'giroscopio (rad/s)',\n",
    "             'gyroscopeY': 'giroscopio (rad/s)'}"
   ]
  },
  {
   "cell_type": "code",
   "execution_count": 3,
   "id": "0f200f55-206b-426c-a249-aace550c611a",
   "metadata": {},
   "outputs": [
    {
     "data": {
      "text/html": [
       "<div>\n",
       "<style scoped>\n",
       "    .dataframe tbody tr th:only-of-type {\n",
       "        vertical-align: middle;\n",
       "    }\n",
       "\n",
       "    .dataframe tbody tr th {\n",
       "        vertical-align: top;\n",
       "    }\n",
       "\n",
       "    .dataframe thead th {\n",
       "        text-align: right;\n",
       "    }\n",
       "</style>\n",
       "<table border=\"1\" class=\"dataframe\">\n",
       "  <thead>\n",
       "    <tr style=\"text-align: right;\">\n",
       "      <th></th>\n",
       "      <th>dateTime</th>\n",
       "      <th>battery</th>\n",
       "      <th>fileSize</th>\n",
       "      <th>pressure</th>\n",
       "      <th>lux</th>\n",
       "      <th>heartRate</th>\n",
       "      <th>ecg</th>\n",
       "      <th>ppg</th>\n",
       "      <th>saturation</th>\n",
       "      <th>accelerometerZ</th>\n",
       "      <th>accelerometerX</th>\n",
       "      <th>accelerometerY</th>\n",
       "      <th>gyroscopeZ</th>\n",
       "      <th>gyroscopeX</th>\n",
       "      <th>gyroscopeY</th>\n",
       "    </tr>\n",
       "  </thead>\n",
       "  <tbody>\n",
       "    <tr>\n",
       "      <th>0</th>\n",
       "      <td>2022-02-23 01:51:42-03:00</td>\n",
       "      <td>96</td>\n",
       "      <td>0.000000</td>\n",
       "      <td>1014.3279</td>\n",
       "      <td>20</td>\n",
       "      <td>0</td>\n",
       "      <td>1772754</td>\n",
       "      <td>0</td>\n",
       "      <td>0</td>\n",
       "      <td>0.220267</td>\n",
       "      <td>-1.762132</td>\n",
       "      <td>9.710882</td>\n",
       "      <td>-1.367117</td>\n",
       "      <td>-0.001222</td>\n",
       "      <td>0.161268</td>\n",
       "    </tr>\n",
       "    <tr>\n",
       "      <th>1</th>\n",
       "      <td>2022-02-23 01:51:43-03:00</td>\n",
       "      <td>96</td>\n",
       "      <td>0.000424</td>\n",
       "      <td>1014.3047</td>\n",
       "      <td>12</td>\n",
       "      <td>0</td>\n",
       "      <td>-750102</td>\n",
       "      <td>0</td>\n",
       "      <td>0</td>\n",
       "      <td>-0.471658</td>\n",
       "      <td>-4.874595</td>\n",
       "      <td>7.970297</td>\n",
       "      <td>-0.091630</td>\n",
       "      <td>0.243124</td>\n",
       "      <td>0.021991</td>\n",
       "    </tr>\n",
       "    <tr>\n",
       "      <th>2</th>\n",
       "      <td>2022-02-23 01:51:43-03:00</td>\n",
       "      <td>96</td>\n",
       "      <td>0.000424</td>\n",
       "      <td>1014.3242</td>\n",
       "      <td>12</td>\n",
       "      <td>0</td>\n",
       "      <td>-745613</td>\n",
       "      <td>0</td>\n",
       "      <td>0</td>\n",
       "      <td>-0.744597</td>\n",
       "      <td>-4.592079</td>\n",
       "      <td>8.990228</td>\n",
       "      <td>-0.255342</td>\n",
       "      <td>-0.037874</td>\n",
       "      <td>-0.186925</td>\n",
       "    </tr>\n",
       "    <tr>\n",
       "      <th>3</th>\n",
       "      <td>2022-02-23 01:51:44-03:00</td>\n",
       "      <td>96</td>\n",
       "      <td>0.000424</td>\n",
       "      <td>1014.3318</td>\n",
       "      <td>12</td>\n",
       "      <td>0</td>\n",
       "      <td>-743236</td>\n",
       "      <td>0</td>\n",
       "      <td>0</td>\n",
       "      <td>-0.038307</td>\n",
       "      <td>-2.877830</td>\n",
       "      <td>8.999804</td>\n",
       "      <td>0.018326</td>\n",
       "      <td>-0.035430</td>\n",
       "      <td>-0.002443</td>\n",
       "    </tr>\n",
       "    <tr>\n",
       "      <th>4</th>\n",
       "      <td>2022-02-23 01:51:44-03:00</td>\n",
       "      <td>96</td>\n",
       "      <td>0.000424</td>\n",
       "      <td>1014.3342</td>\n",
       "      <td>12</td>\n",
       "      <td>0</td>\n",
       "      <td>-736800</td>\n",
       "      <td>0</td>\n",
       "      <td>0</td>\n",
       "      <td>-0.588974</td>\n",
       "      <td>-3.356671</td>\n",
       "      <td>8.784326</td>\n",
       "      <td>0.069639</td>\n",
       "      <td>-0.046426</td>\n",
       "      <td>0.018326</td>\n",
       "    </tr>\n",
       "  </tbody>\n",
       "</table>\n",
       "</div>"
      ],
      "text/plain": [
       "                   dateTime  battery  fileSize   pressure  lux  heartRate  \\\n",
       "0 2022-02-23 01:51:42-03:00       96  0.000000  1014.3279   20          0   \n",
       "1 2022-02-23 01:51:43-03:00       96  0.000424  1014.3047   12          0   \n",
       "2 2022-02-23 01:51:43-03:00       96  0.000424  1014.3242   12          0   \n",
       "3 2022-02-23 01:51:44-03:00       96  0.000424  1014.3318   12          0   \n",
       "4 2022-02-23 01:51:44-03:00       96  0.000424  1014.3342   12          0   \n",
       "\n",
       "       ecg  ppg  saturation  accelerometerZ  accelerometerX  accelerometerY  \\\n",
       "0  1772754    0           0        0.220267       -1.762132        9.710882   \n",
       "1  -750102    0           0       -0.471658       -4.874595        7.970297   \n",
       "2  -745613    0           0       -0.744597       -4.592079        8.990228   \n",
       "3  -743236    0           0       -0.038307       -2.877830        8.999804   \n",
       "4  -736800    0           0       -0.588974       -3.356671        8.784326   \n",
       "\n",
       "   gyroscopeZ  gyroscopeX  gyroscopeY  \n",
       "0   -1.367117   -0.001222    0.161268  \n",
       "1   -0.091630    0.243124    0.021991  \n",
       "2   -0.255342   -0.037874   -0.186925  \n",
       "3    0.018326   -0.035430   -0.002443  \n",
       "4    0.069639   -0.046426    0.018326  "
      ]
     },
     "execution_count": 3,
     "metadata": {},
     "output_type": "execute_result"
    }
   ],
   "source": [
    "#Processamento dos dados para arquivos json\n",
    "df = pd.read_json('data/logger.json')\n",
    "#removendo o id do smartwatch do dataframe\n",
    "df.drop(['ID_smartwatch'], axis=1, inplace=True)\n",
    "df.head()\n",
    "#print(df)"
   ]
  },
  {
   "cell_type": "code",
   "execution_count": null,
   "id": "93af1f1c",
   "metadata": {},
   "outputs": [],
   "source": [
    "#Processamento dos dados caso arquivo seja em csv\n",
    "df = pd.read_csv('data/satu.csv')\n",
    "df.head()"
   ]
  },
  {
   "cell_type": "code",
   "execution_count": 5,
   "id": "fed62329-1b7a-4eae-b1d8-465e41071c0b",
   "metadata": {},
   "outputs": [
    {
     "data": {
      "text/html": [
       "<div>\n",
       "<style scoped>\n",
       "    .dataframe tbody tr th:only-of-type {\n",
       "        vertical-align: middle;\n",
       "    }\n",
       "\n",
       "    .dataframe tbody tr th {\n",
       "        vertical-align: top;\n",
       "    }\n",
       "\n",
       "    .dataframe thead th {\n",
       "        text-align: right;\n",
       "    }\n",
       "</style>\n",
       "<table border=\"1\" class=\"dataframe\">\n",
       "  <thead>\n",
       "    <tr style=\"text-align: right;\">\n",
       "      <th></th>\n",
       "      <th>battery</th>\n",
       "      <th>fileSize</th>\n",
       "      <th>pressure</th>\n",
       "      <th>lux</th>\n",
       "      <th>heartRate</th>\n",
       "      <th>ecg</th>\n",
       "      <th>ppg</th>\n",
       "      <th>saturation</th>\n",
       "      <th>accelerometerZ</th>\n",
       "      <th>accelerometerX</th>\n",
       "      <th>accelerometerY</th>\n",
       "      <th>gyroscopeZ</th>\n",
       "      <th>gyroscopeX</th>\n",
       "      <th>gyroscopeY</th>\n",
       "    </tr>\n",
       "  </thead>\n",
       "  <tbody>\n",
       "    <tr>\n",
       "      <th>count</th>\n",
       "      <td>34385.000000</td>\n",
       "      <td>34385.000000</td>\n",
       "      <td>34385.000000</td>\n",
       "      <td>34385.000000</td>\n",
       "      <td>34385.000000</td>\n",
       "      <td>3.438500e+04</td>\n",
       "      <td>3.438500e+04</td>\n",
       "      <td>34385.0</td>\n",
       "      <td>34385.000000</td>\n",
       "      <td>34385.000000</td>\n",
       "      <td>34385.000000</td>\n",
       "      <td>34385.000000</td>\n",
       "      <td>34385.000000</td>\n",
       "      <td>34385.000000</td>\n",
       "    </tr>\n",
       "    <tr>\n",
       "      <th>mean</th>\n",
       "      <td>53.906936</td>\n",
       "      <td>0.592154</td>\n",
       "      <td>1013.726712</td>\n",
       "      <td>0.116097</td>\n",
       "      <td>71.471717</td>\n",
       "      <td>-6.291813e+05</td>\n",
       "      <td>2.704032e+06</td>\n",
       "      <td>0.0</td>\n",
       "      <td>-0.801328</td>\n",
       "      <td>-1.605878</td>\n",
       "      <td>1.776661</td>\n",
       "      <td>-0.001035</td>\n",
       "      <td>0.001140</td>\n",
       "      <td>-0.000247</td>\n",
       "    </tr>\n",
       "    <tr>\n",
       "      <th>std</th>\n",
       "      <td>25.218640</td>\n",
       "      <td>0.366024</td>\n",
       "      <td>0.300620</td>\n",
       "      <td>1.255798</td>\n",
       "      <td>28.841492</td>\n",
       "      <td>6.902806e+05</td>\n",
       "      <td>2.305585e+05</td>\n",
       "      <td>0.0</td>\n",
       "      <td>2.988043</td>\n",
       "      <td>4.681211</td>\n",
       "      <td>7.662098</td>\n",
       "      <td>0.326530</td>\n",
       "      <td>0.181564</td>\n",
       "      <td>0.209565</td>\n",
       "    </tr>\n",
       "    <tr>\n",
       "      <th>min</th>\n",
       "      <td>8.000000</td>\n",
       "      <td>0.000000</td>\n",
       "      <td>1013.239500</td>\n",
       "      <td>0.000000</td>\n",
       "      <td>0.000000</td>\n",
       "      <td>-2.800252e+06</td>\n",
       "      <td>0.000000e+00</td>\n",
       "      <td>0.0</td>\n",
       "      <td>-14.700398</td>\n",
       "      <td>-55.535904</td>\n",
       "      <td>-27.293900</td>\n",
       "      <td>-10.334619</td>\n",
       "      <td>-5.644395</td>\n",
       "      <td>-12.252735</td>\n",
       "    </tr>\n",
       "    <tr>\n",
       "      <th>25%</th>\n",
       "      <td>33.000000</td>\n",
       "      <td>0.269255</td>\n",
       "      <td>1013.454830</td>\n",
       "      <td>0.000000</td>\n",
       "      <td>56.000000</td>\n",
       "      <td>-5.451310e+05</td>\n",
       "      <td>2.585044e+06</td>\n",
       "      <td>0.0</td>\n",
       "      <td>-2.403779</td>\n",
       "      <td>-5.657499</td>\n",
       "      <td>-7.225701</td>\n",
       "      <td>-0.002443</td>\n",
       "      <td>-0.003665</td>\n",
       "      <td>-0.001222</td>\n",
       "    </tr>\n",
       "    <tr>\n",
       "      <th>50%</th>\n",
       "      <td>54.000000</td>\n",
       "      <td>0.570062</td>\n",
       "      <td>1013.694600</td>\n",
       "      <td>0.000000</td>\n",
       "      <td>60.000000</td>\n",
       "      <td>-3.872610e+05</td>\n",
       "      <td>2.646183e+06</td>\n",
       "      <td>0.0</td>\n",
       "      <td>-1.637634</td>\n",
       "      <td>0.023942</td>\n",
       "      <td>5.288792</td>\n",
       "      <td>0.000000</td>\n",
       "      <td>0.000000</td>\n",
       "      <td>0.000000</td>\n",
       "    </tr>\n",
       "    <tr>\n",
       "      <th>75%</th>\n",
       "      <td>76.000000</td>\n",
       "      <td>0.910304</td>\n",
       "      <td>1013.946040</td>\n",
       "      <td>0.000000</td>\n",
       "      <td>107.000000</td>\n",
       "      <td>-2.921980e+05</td>\n",
       "      <td>2.830511e+06</td>\n",
       "      <td>0.0</td>\n",
       "      <td>0.644040</td>\n",
       "      <td>1.587356</td>\n",
       "      <td>8.609549</td>\n",
       "      <td>0.002443</td>\n",
       "      <td>0.003665</td>\n",
       "      <td>0.001222</td>\n",
       "    </tr>\n",
       "    <tr>\n",
       "      <th>max</th>\n",
       "      <td>96.000000</td>\n",
       "      <td>1.258512</td>\n",
       "      <td>1014.439700</td>\n",
       "      <td>40.000000</td>\n",
       "      <td>129.000000</td>\n",
       "      <td>2.388773e+06</td>\n",
       "      <td>3.227346e+06</td>\n",
       "      <td>0.0</td>\n",
       "      <td>19.706675</td>\n",
       "      <td>29.309816</td>\n",
       "      <td>25.206156</td>\n",
       "      <td>15.239866</td>\n",
       "      <td>8.229576</td>\n",
       "      <td>5.987701</td>\n",
       "    </tr>\n",
       "  </tbody>\n",
       "</table>\n",
       "</div>"
      ],
      "text/plain": [
       "            battery      fileSize      pressure           lux     heartRate  \\\n",
       "count  34385.000000  34385.000000  34385.000000  34385.000000  34385.000000   \n",
       "mean      53.906936      0.592154   1013.726712      0.116097     71.471717   \n",
       "std       25.218640      0.366024      0.300620      1.255798     28.841492   \n",
       "min        8.000000      0.000000   1013.239500      0.000000      0.000000   \n",
       "25%       33.000000      0.269255   1013.454830      0.000000     56.000000   \n",
       "50%       54.000000      0.570062   1013.694600      0.000000     60.000000   \n",
       "75%       76.000000      0.910304   1013.946040      0.000000    107.000000   \n",
       "max       96.000000      1.258512   1014.439700     40.000000    129.000000   \n",
       "\n",
       "                ecg           ppg  saturation  accelerometerZ  accelerometerX  \\\n",
       "count  3.438500e+04  3.438500e+04     34385.0    34385.000000    34385.000000   \n",
       "mean  -6.291813e+05  2.704032e+06         0.0       -0.801328       -1.605878   \n",
       "std    6.902806e+05  2.305585e+05         0.0        2.988043        4.681211   \n",
       "min   -2.800252e+06  0.000000e+00         0.0      -14.700398      -55.535904   \n",
       "25%   -5.451310e+05  2.585044e+06         0.0       -2.403779       -5.657499   \n",
       "50%   -3.872610e+05  2.646183e+06         0.0       -1.637634        0.023942   \n",
       "75%   -2.921980e+05  2.830511e+06         0.0        0.644040        1.587356   \n",
       "max    2.388773e+06  3.227346e+06         0.0       19.706675       29.309816   \n",
       "\n",
       "       accelerometerY    gyroscopeZ    gyroscopeX    gyroscopeY  \n",
       "count    34385.000000  34385.000000  34385.000000  34385.000000  \n",
       "mean         1.776661     -0.001035      0.001140     -0.000247  \n",
       "std          7.662098      0.326530      0.181564      0.209565  \n",
       "min        -27.293900    -10.334619     -5.644395    -12.252735  \n",
       "25%         -7.225701     -0.002443     -0.003665     -0.001222  \n",
       "50%          5.288792      0.000000      0.000000      0.000000  \n",
       "75%          8.609549      0.002443      0.003665      0.001222  \n",
       "max         25.206156     15.239866      8.229576      5.987701  "
      ]
     },
     "execution_count": 5,
     "metadata": {},
     "output_type": "execute_result"
    }
   ],
   "source": [
    "#visao geral dos dados (quantidade, media, desvio padrao, minimo, q1, mediana, q3 e maximo)\n",
    "df.describe()"
   ]
  },
  {
   "cell_type": "code",
   "execution_count": 6,
   "id": "75cf15ab",
   "metadata": {},
   "outputs": [
    {
     "name": "stdout",
     "output_type": "stream",
     "text": [
      "<class 'pandas.core.frame.DataFrame'>\n",
      "RangeIndex: 34385 entries, 0 to 34384\n",
      "Data columns (total 15 columns):\n",
      " #   Column          Non-Null Count  Dtype                                 \n",
      "---  ------          --------------  -----                                 \n",
      " 0   dateTime        34385 non-null  datetime64[ns, pytz.FixedOffset(-180)]\n",
      " 1   battery         34385 non-null  int64                                 \n",
      " 2   fileSize        34385 non-null  float64                               \n",
      " 3   pressure        34385 non-null  float64                               \n",
      " 4   lux             34385 non-null  int64                                 \n",
      " 5   heartRate       34385 non-null  int64                                 \n",
      " 6   ecg             34385 non-null  int64                                 \n",
      " 7   ppg             34385 non-null  int64                                 \n",
      " 8   saturation      34385 non-null  int64                                 \n",
      " 9   accelerometerZ  34385 non-null  float64                               \n",
      " 10  accelerometerX  34385 non-null  float64                               \n",
      " 11  accelerometerY  34385 non-null  float64                               \n",
      " 12  gyroscopeZ      34385 non-null  float64                               \n",
      " 13  gyroscopeX      34385 non-null  float64                               \n",
      " 14  gyroscopeY      34385 non-null  float64                               \n",
      "dtypes: datetime64[ns, pytz.FixedOffset(-180)](1), float64(8), int64(6)\n",
      "memory usage: 3.9 MB\n"
     ]
    }
   ],
   "source": [
    "#checando a existencia de valores nulos/faltantes\n",
    "#df.isna().sum()\n",
    "df.info()"
   ]
  },
  {
   "cell_type": "code",
   "execution_count": 7,
   "id": "e8dbce6b",
   "metadata": {},
   "outputs": [
    {
     "data": {
      "text/html": [
       "<div>\n",
       "<style scoped>\n",
       "    .dataframe tbody tr th:only-of-type {\n",
       "        vertical-align: middle;\n",
       "    }\n",
       "\n",
       "    .dataframe tbody tr th {\n",
       "        vertical-align: top;\n",
       "    }\n",
       "\n",
       "    .dataframe thead th {\n",
       "        text-align: right;\n",
       "    }\n",
       "</style>\n",
       "<table border=\"1\" class=\"dataframe\">\n",
       "  <thead>\n",
       "    <tr style=\"text-align: right;\">\n",
       "      <th></th>\n",
       "      <th>battery</th>\n",
       "      <th>fileSize</th>\n",
       "      <th>pressure</th>\n",
       "      <th>lux</th>\n",
       "      <th>heartRate</th>\n",
       "      <th>ecg</th>\n",
       "      <th>ppg</th>\n",
       "      <th>saturation</th>\n",
       "      <th>accelerometerZ</th>\n",
       "      <th>accelerometerX</th>\n",
       "      <th>accelerometerY</th>\n",
       "      <th>gyroscopeZ</th>\n",
       "      <th>gyroscopeX</th>\n",
       "      <th>gyroscopeY</th>\n",
       "      <th>dateTime</th>\n",
       "    </tr>\n",
       "  </thead>\n",
       "  <tbody>\n",
       "    <tr>\n",
       "      <th>0</th>\n",
       "      <td>96</td>\n",
       "      <td>0.000000</td>\n",
       "      <td>1014.3279</td>\n",
       "      <td>20</td>\n",
       "      <td>0</td>\n",
       "      <td>1772754</td>\n",
       "      <td>0</td>\n",
       "      <td>0</td>\n",
       "      <td>0.220267</td>\n",
       "      <td>-1.762132</td>\n",
       "      <td>9.710882</td>\n",
       "      <td>-1.367117</td>\n",
       "      <td>-0.001222</td>\n",
       "      <td>0.161268</td>\n",
       "      <td>0.0</td>\n",
       "    </tr>\n",
       "    <tr>\n",
       "      <th>1</th>\n",
       "      <td>96</td>\n",
       "      <td>0.000424</td>\n",
       "      <td>1014.3047</td>\n",
       "      <td>12</td>\n",
       "      <td>0</td>\n",
       "      <td>-750102</td>\n",
       "      <td>0</td>\n",
       "      <td>0</td>\n",
       "      <td>-0.471658</td>\n",
       "      <td>-4.874595</td>\n",
       "      <td>7.970297</td>\n",
       "      <td>-0.091630</td>\n",
       "      <td>0.243124</td>\n",
       "      <td>0.021991</td>\n",
       "      <td>1.0</td>\n",
       "    </tr>\n",
       "    <tr>\n",
       "      <th>2</th>\n",
       "      <td>96</td>\n",
       "      <td>0.000424</td>\n",
       "      <td>1014.3242</td>\n",
       "      <td>12</td>\n",
       "      <td>0</td>\n",
       "      <td>-745613</td>\n",
       "      <td>0</td>\n",
       "      <td>0</td>\n",
       "      <td>-0.744597</td>\n",
       "      <td>-4.592079</td>\n",
       "      <td>8.990228</td>\n",
       "      <td>-0.255342</td>\n",
       "      <td>-0.037874</td>\n",
       "      <td>-0.186925</td>\n",
       "      <td>1.0</td>\n",
       "    </tr>\n",
       "    <tr>\n",
       "      <th>3</th>\n",
       "      <td>96</td>\n",
       "      <td>0.000424</td>\n",
       "      <td>1014.3318</td>\n",
       "      <td>12</td>\n",
       "      <td>0</td>\n",
       "      <td>-743236</td>\n",
       "      <td>0</td>\n",
       "      <td>0</td>\n",
       "      <td>-0.038307</td>\n",
       "      <td>-2.877830</td>\n",
       "      <td>8.999804</td>\n",
       "      <td>0.018326</td>\n",
       "      <td>-0.035430</td>\n",
       "      <td>-0.002443</td>\n",
       "      <td>2.0</td>\n",
       "    </tr>\n",
       "    <tr>\n",
       "      <th>4</th>\n",
       "      <td>96</td>\n",
       "      <td>0.000424</td>\n",
       "      <td>1014.3342</td>\n",
       "      <td>12</td>\n",
       "      <td>0</td>\n",
       "      <td>-736800</td>\n",
       "      <td>0</td>\n",
       "      <td>0</td>\n",
       "      <td>-0.588974</td>\n",
       "      <td>-3.356671</td>\n",
       "      <td>8.784326</td>\n",
       "      <td>0.069639</td>\n",
       "      <td>-0.046426</td>\n",
       "      <td>0.018326</td>\n",
       "      <td>2.0</td>\n",
       "    </tr>\n",
       "  </tbody>\n",
       "</table>\n",
       "</div>"
      ],
      "text/plain": [
       "   battery  fileSize   pressure  lux  heartRate      ecg  ppg  saturation  \\\n",
       "0       96  0.000000  1014.3279   20          0  1772754    0           0   \n",
       "1       96  0.000424  1014.3047   12          0  -750102    0           0   \n",
       "2       96  0.000424  1014.3242   12          0  -745613    0           0   \n",
       "3       96  0.000424  1014.3318   12          0  -743236    0           0   \n",
       "4       96  0.000424  1014.3342   12          0  -736800    0           0   \n",
       "\n",
       "   accelerometerZ  accelerometerX  accelerometerY  gyroscopeZ  gyroscopeX  \\\n",
       "0        0.220267       -1.762132        9.710882   -1.367117   -0.001222   \n",
       "1       -0.471658       -4.874595        7.970297   -0.091630    0.243124   \n",
       "2       -0.744597       -4.592079        8.990228   -0.255342   -0.037874   \n",
       "3       -0.038307       -2.877830        8.999804    0.018326   -0.035430   \n",
       "4       -0.588974       -3.356671        8.784326    0.069639   -0.046426   \n",
       "\n",
       "   gyroscopeY  dateTime  \n",
       "0    0.161268       0.0  \n",
       "1    0.021991       1.0  \n",
       "2   -0.186925       1.0  \n",
       "3   -0.002443       2.0  \n",
       "4    0.018326       2.0  "
      ]
     },
     "execution_count": 7,
     "metadata": {},
     "output_type": "execute_result"
    }
   ],
   "source": [
    "#convertendo datetime para valor numerico\n",
    "time = []\n",
    "y, mo, d = map(int, str(df['dateTime'][0])[0:10].split('-'))\n",
    "h,m,s = map(int, str(df['dateTime'][0])[11:19].split(':'))\n",
    "startingTime = datetime.datetime(y, mo, d, h, m, s).timestamp()\n",
    "\n",
    "for val in range(len(df.dateTime)):\n",
    "    v = str(df.dateTime[val])\n",
    "    y, mo, d = map(int, v[0:10].split('-'))\n",
    "    h,m,s = map(int, v[11:19].split(':'))\n",
    "    ts = datetime.datetime(y, mo, d, h, m, s).timestamp()\n",
    "    ts = ts - startingTime\n",
    "    time.append(ts)\n",
    "    \n",
    "df.drop('dateTime', axis = 1, inplace=True)\n",
    "df['dateTime'] = time\n",
    "df.head()"
   ]
  },
  {
   "cell_type": "code",
   "execution_count": 8,
   "id": "77de7f10",
   "metadata": {},
   "outputs": [
    {
     "data": {
      "image/png": "[encoded data removed]",
      "text/plain": [
       "<Figure size 432x288 with 1 Axes>"
      ]
     },
     "metadata": {
      "needs_background": "light"
     },
     "output_type": "display_data"
    }
   ],
   "source": [
    "#substituindo leituras erroneas por NaN\n",
    "df.ecg.replace(0, np.nan, inplace=True)\n",
    "df.ppg.replace(0, np.nan, inplace=True)\n",
    "df.heartRate.replace(0, np.nan, inplace=True)\n",
    "hm = sns.heatmap(df.isnull(),cbar=False,yticklabels=False,cmap = 'Blues')\n",
    "figure = hm.get_figure()    \n",
    "figure.savefig('graphs/missing.png', bbox_inches='tight', dpi=800)"
   ]
  },
  {
   "cell_type": "code",
   "execution_count": 9,
   "id": "f3acae44",
   "metadata": {},
   "outputs": [
    {
     "data": {
      "text/plain": [
       "battery           0\n",
       "fileSize          0\n",
       "pressure          0\n",
       "lux               0\n",
       "heartRate         0\n",
       "ecg               0\n",
       "ppg               0\n",
       "saturation        0\n",
       "accelerometerZ    0\n",
       "accelerometerX    0\n",
       "accelerometerY    0\n",
       "gyroscopeZ        0\n",
       "gyroscopeX        0\n",
       "gyroscopeY        0\n",
       "dateTime          0\n",
       "dtype: int64"
      ]
     },
     "execution_count": 9,
     "metadata": {},
     "output_type": "execute_result"
    }
   ],
   "source": [
    "#substituindo os valores faltantes pela media da coluna (caso nao existam nao e necessario executar essa celula)\n",
    "#obs: apenas valido para valores numericos\n",
    "num_col = ['heartRate', 'ppg'] # lista com as colunas que possuem valores faltantes\n",
    "for col in num_col:\n",
    "    df[col]=pd.to_numeric(df[col])\n",
    "    df[col].fillna(df[col].mean(), inplace=True)\n",
    "df.isna().sum()"
   ]
  },
  {
   "cell_type": "code",
   "execution_count": 11,
   "id": "f4cff4f4",
   "metadata": {},
   "outputs": [
    {
     "data": {
      "text/plain": [
       "[<matplotlib.lines.Line2D at 0x1330ab3bd60>]"
      ]
     },
     "execution_count": 11,
     "metadata": {},
     "output_type": "execute_result"
    },
    {
     "data": {
      "image/png": "[encoded data removed]",
      "text/plain": [
       "<Figure size 432x288 with 1 Axes>"
      ]
     },
     "metadata": {
      "needs_background": "light"
     },
     "output_type": "display_data"
    }
   ],
   "source": [
    "#visualizando as leituras de cada variavel\n",
    "y = df.ppg\n",
    "x = range(y.size)\n",
    "plt.plot(x,y)"
   ]
  },
  {
   "cell_type": "code",
   "execution_count": 12,
   "id": "14c3562b-db9f-4a30-b4cd-0381c6b7e2e3",
   "metadata": {},
   "outputs": [
    {
     "data": {
      "image/png": "[encoded data removed]",
      "text/plain": [
       "<Figure size 432x288 with 1 Axes>"
      ]
     },
     "metadata": {
      "needs_background": "light"
     },
     "output_type": "display_data"
    }
   ],
   "source": [
    "y = list(df.ppg)\n",
    "plt.boxplot(y)\n",
    "plt.savefig('graphs/boxplot2.png', bbox_inches='tight')"
   ]
  },
  {
   "cell_type": "code",
   "execution_count": 13,
   "id": "f47eec98-55c1-4ed7-9832-83c07aa97183",
   "metadata": {},
   "outputs": [
    {
     "name": "stdout",
     "output_type": "stream",
     "text": [
      "[[ 4.76487239e+11 -7.93292419e+06 -4.28512113e+03]\n",
      " [-7.93292419e+06  5.41029322e+02  7.17164954e-01]\n",
      " [-4.28512113e+03  7.17164954e-01  1.57702828e+00]]\n"
     ]
    }
   ],
   "source": [
    "#calculando a covariancia entre variaveis\n",
    "covariance = np.cov([df.ecg, df.heartRate, df.lux])\n",
    "print(covariance)"
   ]
  },
  {
   "cell_type": "code",
   "execution_count": 14,
   "id": "26194f2c",
   "metadata": {},
   "outputs": [
    {
     "name": "stdout",
     "output_type": "stream",
     "text": [
      "A correlacao de Pearson entre ecg e heartRate eh: -0.494\n",
      "A correlacao de Pearson entre ecg e lux eh: -0.005\n",
      "A correlacao de Pearson entre heartRate e lux eh: 0.025\n"
     ]
    }
   ],
   "source": [
    "#normalizando a covariancia para que se torne interpretavel(correlacao de pearson)\n",
    "#metodo mais apropriado para distrubuicoes gaussianas\n",
    "items = [df.ecg, df.heartRate, df.lux]\n",
    "for pair in itertools.combinations(items, 2):\n",
    "    pCorr, _ = pearsonr(*pair)\n",
    "    print(f\"A correlacao de Pearson entre {pair[0].name} e {pair[1].name} eh: {pCorr:.3f}\")"
   ]
  },
  {
   "cell_type": "code",
   "execution_count": 15,
   "id": "f3bb4eef",
   "metadata": {},
   "outputs": [
    {
     "name": "stdout",
     "output_type": "stream",
     "text": [
      "A correlacao de Spearman entre ecg e heartRate eh: -0.140\n",
      "A correlacao de Spearman entre ecg e lux eh: -0.127\n",
      "A correlacao de Spearman entre heartRate e lux eh: 0.058\n"
     ]
    }
   ],
   "source": [
    "#interpretando a covariancia pela correlacao de spearman (para distribuicoes nao gaussianas)\n",
    "items = [df.ecg, df.heartRate, df.lux]\n",
    "for pair in itertools.combinations(items, 2):\n",
    "    sCorr, _ = spearmanr(*pair)\n",
    "    print(f\"A correlacao de Spearman entre {pair[0].name} e {pair[1].name} eh: {sCorr:.3f}\")"
   ]
  },
  {
   "cell_type": "code",
   "execution_count": 16,
   "id": "0dcecad7",
   "metadata": {},
   "outputs": [
    {
     "data": {
      "image/png": "[encoded data removed]",
      "text/plain": [
       "<Figure size 432x288 with 2 Axes>"
      ]
     },
     "metadata": {
      "needs_background": "light"
     },
     "output_type": "display_data"
    }
   ],
   "source": [
    "ddf = df.copy()\n",
    "ddf.drop(['dateTime'], axis=1, inplace=True)\n",
    "ddf.drop(['fileSize'], axis=1, inplace=True)\n",
    "ddf.drop(['saturation'], axis=1, inplace=True)\n",
    "ddf.drop(['battery'], axis=1, inplace=True)\n",
    "cor = sns.heatmap(ddf.corr(),cmap='Blues',annot=False)\n",
    "figure = cor.get_figure()    \n",
    "figure.savefig('graphs/correlation.png', bbox_inches='tight', dpi=800)"
   ]
  },
  {
   "cell_type": "code",
   "execution_count": 17,
   "id": "8b804f30",
   "metadata": {},
   "outputs": [],
   "source": [
    "#normalizacao por maximum absolute scaling\n",
    "def maxAbsoluteScale(df):\n",
    "    scaledDf = df.copy()\n",
    "    #Divide cada valor de uma coluna pelo valor maximo da mesma\n",
    "    for column in scaledDf.columns:\n",
    "        #as colunas de horario, tamanho de arquivo e bateria sao desconsideradas\n",
    "        if column != 'datetime' and column != 'size' and column != 'battery':\n",
    "            scaledDf[column] = scaledDf[column]  / scaledDf[column].abs().max()\n",
    "    #retorna os valores em uma escala de -1 a 1\n",
    "    return scaledDf"
   ]
  },
  {
   "cell_type": "code",
   "execution_count": 18,
   "id": "8ab81375",
   "metadata": {},
   "outputs": [],
   "source": [
    "#normalizacao por min-max\n",
    "def minMaxScale(df):\n",
    "    scaledDf = df.copy()\n",
    "    #aplicando a formula do min-max (x-min / range)\n",
    "    for column in scaledDf.columns:\n",
    "        #as colunas de horario, tamanho de arquivo e bateria sao desconsideradas\n",
    "        if column != 'datetime' and column != 'size' and column != 'battery':\n",
    "            scaledDf[column] = (scaledDf[column] - scaledDf[column].min()) / (scaledDf[column].max() - scaledDf[column].min())\n",
    "    #retorna os valores em uma escala entre 0 e 1\n",
    "    return scaledDf"
   ]
  },
  {
   "cell_type": "code",
   "execution_count": 19,
   "id": "bec71f1a",
   "metadata": {},
   "outputs": [],
   "source": [
    "#normalizacao por z-score (standardize)\n",
    "def standardize(df):\n",
    "    scaledDf = df.copy()\n",
    "    #aplicando a formula do z-score (x-media / desvio padrao)\n",
    "    for column in scaledDf.columns:\n",
    "        #as colunas de horario, tamanho de arquivo e bateria sao desconsideradas\n",
    "        if column != 'datetime' and column != 'size' and column != 'battery':\n",
    "            scaledDf[column] = (scaledDf[column] - scaledDf[column].mean()) / scaledDf[column].std()\n",
    "    #retorna os valores com media = 0 e desvio padrao = 1\n",
    "    return scaledDf"
   ]
  },
  {
   "cell_type": "code",
   "execution_count": 20,
   "id": "082aac1e",
   "metadata": {},
   "outputs": [],
   "source": [
    "#normalizacao por robust scaling (ideal para dados com muitos outliers)\n",
    "def robustScaling(df):\n",
    "    scaledDf = df.copy()\n",
    "    #aplicando a formula do robust scaling (x-mediana/(q3-q2)*) *interquartille range\n",
    "    for column in scaledDf.columns:\n",
    "        #as colunas de horario, tamanho de arquivo e bateria sao desconsideradas\n",
    "        if column != 'datetime' and column != 'size' and column != 'battery':\n",
    "            scaledDf[column] = (scaledDf[column] - scaledDf[column].median())  / (scaledDf[column].quantile(0.75) - scaledDf[column].quantile(0.25))\n",
    "    return scaledDf"
   ]
  },
  {
   "cell_type": "code",
   "execution_count": 21,
   "id": "400b1230",
   "metadata": {},
   "outputs": [
    {
     "name": "stdout",
     "output_type": "stream",
     "text": [
      "(4679, -924530.5, 87201.5)\n"
     ]
    }
   ],
   "source": [
    "#calculando o numero de outliers\n",
    "def outlierCount(df, var):\n",
    "    q1= df[var].quantile(0.25)\n",
    "    q3 = df[var].quantile(0.75)\n",
    "    iqRange = q3 - q1\n",
    "    maxVal = q3 + 1.5 * iqRange\n",
    "    minVal = q1 - 1.5 * iqRange\n",
    "    count = len(df[(df[var] < minVal)]) + len(df[(df[var] > maxVal)])\n",
    "    return count, minVal, maxVal\n",
    "\n",
    "print(outlierCount(df, 'ecg'))"
   ]
  },
  {
   "cell_type": "code",
   "execution_count": 22,
   "id": "0ad9411f",
   "metadata": {},
   "outputs": [
    {
     "name": "stdout",
     "output_type": "stream",
     "text": [
      "(36, -782953.5, 10352.5)\n"
     ]
    }
   ],
   "source": [
    "#tratando outliers\n",
    "def removeOutliers(df, var):\n",
    "    count, minVal, maxVal = outlierCount(df, var)\n",
    "    newDf = df[(df[var] > minVal) & (df[var] < maxVal)]\n",
    "    return newDf\n",
    "    \n",
    "noOutliers = removeOutliers(df, 'ecg')\n",
    "print(outlierCount(noOutliers, 'ecg'))"
   ]
  },
  {
   "cell_type": "code",
   "execution_count": 23,
   "id": "805b872e",
   "metadata": {},
   "outputs": [],
   "source": [
    "maxAbsDf = maxAbsoluteScale(df)\n",
    "minMaxDf = minMaxScale(df)\n",
    "zScoreDf = standardize(df)\n",
    "robustDf = robustScaling(df)"
   ]
  },
  {
   "cell_type": "code",
   "execution_count": 24,
   "id": "40bcff7f",
   "metadata": {
    "scrolled": true
   },
   "outputs": [
    {
     "data": {
      "text/plain": [
       "{'whiskers': [<matplotlib.lines.Line2D at 0x1330bd2dbe0>,\n",
       "  <matplotlib.lines.Line2D at 0x1330bd2deb0>],\n",
       " 'caps': [<matplotlib.lines.Line2D at 0x1330ad4a1c0>,\n",
       "  <matplotlib.lines.Line2D at 0x1330ad4a490>],\n",
       " 'boxes': [<matplotlib.lines.Line2D at 0x1330bd2d910>],\n",
       " 'medians': [<matplotlib.lines.Line2D at 0x1330ad4a760>],\n",
       " 'fliers': [<matplotlib.lines.Line2D at 0x1330ad4aa30>],\n",
       " 'means': []}"
      ]
     },
     "execution_count": 24,
     "metadata": {},
     "output_type": "execute_result"
    },
    {
     "data": {
      "image/png": "[encoded data removed]",
      "text/plain": [
       "<Figure size 432x288 with 1 Axes>"
      ]
     },
     "metadata": {
      "needs_background": "light"
     },
     "output_type": "display_data"
    }
   ],
   "source": [
    "y = list(noOutliers.ecg)\n",
    "plt.boxplot(y)"
   ]
  },
  {
   "cell_type": "code",
   "execution_count": 25,
   "id": "f73e1bdd",
   "metadata": {},
   "outputs": [
    {
     "data": {
      "text/plain": [
       "[<matplotlib.lines.Line2D at 0x1330bd03190>]"
      ]
     },
     "execution_count": 25,
     "metadata": {},
     "output_type": "execute_result"
    },
    {
     "data": {
      "image/png": "[encoded data removed]",
      "text/plain": [
       "<Figure size 432x288 with 1 Axes>"
      ]
     },
     "metadata": {
      "needs_background": "light"
     },
     "output_type": "display_data"
    }
   ],
   "source": [
    "y = df.ecg\n",
    "x = df.dateTime\n",
    "plt.plot(x,y)"
   ]
  },
  {
   "cell_type": "code",
   "execution_count": 26,
   "id": "12a9ba4f",
   "metadata": {},
   "outputs": [
    {
     "data": {
      "text/plain": [
       "[<matplotlib.lines.Line2D at 0x1330aca3190>]"
      ]
     },
     "execution_count": 26,
     "metadata": {},
     "output_type": "execute_result"
    },
    {
     "data": {
      "image/png": "[encoded data removed]",
      "text/plain": [
       "<Figure size 432x288 with 1 Axes>"
      ]
     },
     "metadata": {
      "needs_background": "light"
     },
     "output_type": "display_data"
    }
   ],
   "source": [
    "y = zScoreDf.ecg\n",
    "x = zScoreDf.dateTime\n",
    "plt.plot(x,y)"
   ]
  },
  {
   "cell_type": "code",
   "execution_count": 27,
   "id": "1234c76d",
   "metadata": {},
   "outputs": [
    {
     "data": {
      "text/plain": [
       "[<matplotlib.lines.Line2D at 0x1330ad0b3d0>]"
      ]
     },
     "execution_count": 27,
     "metadata": {},
     "output_type": "execute_result"
    },
    {
     "data": {
      "image/png": "[encoded data removed]",
      "text/plain": [
       "<Figure size 432x288 with 1 Axes>"
      ]
     },
     "metadata": {
      "needs_background": "light"
     },
     "output_type": "display_data"
    }
   ],
   "source": [
    "zScoreNoOut = standardize(noOutliers)\n",
    "y = zScoreNoOut.ecg\n",
    "x = zScoreNoOut.dateTime\n",
    "plt.plot(x,y)"
   ]
  },
  {
   "cell_type": "code",
   "execution_count": 28,
   "id": "f187579d",
   "metadata": {},
   "outputs": [
    {
     "name": "stdout",
     "output_type": "stream",
     "text": [
      "A correlacao de Spearman entre ecg e heartRate eh: 0.215\n",
      "A correlacao de Spearman entre ecg e lux eh: -0.188\n",
      "A correlacao de Spearman entre heartRate e lux eh: 0.100\n"
     ]
    }
   ],
   "source": [
    "#checando a correlacao apos processamento\n",
    "items = [zScoreNoOut.ecg, zScoreNoOut.heartRate, zScoreNoOut.lux]\n",
    "for pair in itertools.combinations(items, 2):\n",
    "    sCorr, _ = spearmanr(*pair)\n",
    "    print(f\"A correlacao de Spearman entre {pair[0].name} e {pair[1].name} eh: {sCorr:.3f}\")"
   ]
  },
  {
   "cell_type": "code",
   "execution_count": null,
   "id": "7700aa3c",
   "metadata": {},
   "outputs": [],
   "source": []
  }
 ],
 "metadata": {
  "kernelspec": {
   "display_name": "Python 3 (ipykernel)",
   "language": "python",
   "name": "python3"
  },
  "language_info": {
   "codemirror_mode": {
    "name": "ipython",
    "version": 3
   },
   "file_extension": ".py",
   "mimetype": "text/x-python",
   "name": "python",
   "nbconvert_exporter": "python",
   "pygments_lexer": "ipython3",
   "version": "3.9.7"
  }
 },
 "nbformat": 4,
 "nbformat_minor": 5
}
