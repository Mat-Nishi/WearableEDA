{
 "cells": [
  {
   "cell_type": "code",
   "execution_count": null,
   "id": "c69a3007-849c-4d5d-a709-af4ced76c808",
   "metadata": {},
   "outputs": [],
   "source": [
    "#importando as dependencias necessarias\n",
    "import pandas as pd\n",
    "import json, csv, glob\n",
    "import matplotlib.pyplot as plt\n",
    "%matplotlib inline\n",
    "import seaborn as sns\n",
    "import numpy as np\n",
    "from scipy.stats import pearsonr, spearmanr\n",
    "import itertools\n",
    "import time, datetime, os"
   ]
  },
  {
   "cell_type": "code",
   "execution_count": null,
   "id": "372a9f97-9627-435d-8e23-cac406bbb26a",
   "metadata": {},
   "outputs": [],
   "source": [
    "#json nao esta mais sendo utilizado\n",
    "\"\"\"formatando o arquivo de logger para ser compativel com o pandas\n",
    "#obs: o arquivo de logger sera sobreescrito (podendo nao ser necesssario executar essa celula para determinado arquivo)\n",
    "dic = {'ID_smartwatch':[], 'dateTime':[], 'battery':[], 'fileSize':[], 'pressure':[], 'lux':[], 'heartRate':[],\n",
    "         'ecg':[], 'ppg':[], 'saturation':[], 'accelerometerZ':[], 'accelerometerX':[],\n",
    "         'accelerometerY':[], 'gyroscopeZ':[], 'gyroscopeX':[], 'gyroscopeY':[]}\n",
    "\n",
    "for filename in os.listdir(\"loggers\"):\n",
    "    print(filename)\n",
    "    with open('loggers/'+filename, 'r') as file:\n",
    "        d = file.read()\n",
    "        f = json.loads(d)\n",
    "        for key in f:\n",
    "            dic[key] = dic[key] + list(f[key][0][1:-1].split(', '))\n",
    "        \n",
    "dic['ID_smartwatch'] = dic['ID_smartwatch'][0]\n",
    "with open('data/logger.json', 'w') as file:\n",
    "    file.write(json.dumps(dic))\n",
    "\n",
    "with open('data/loggerECG.json', 'r+') as file:\n",
    "    dic = file.read()\n",
    "    f = json.loads(dic)\n",
    "    for key in f:\n",
    "        f[key] = list(f[key][0][1:-1].split(', '))\n",
    "\n",
    "    for key in f:\n",
    "        d = {}\n",
    "        for i in range(len(f[key])):\n",
    "            d[i] = f[key][i]\n",
    "        f[key] = d\n",
    "    file.seek(0)\n",
    "    file.write(json.dumps(f))\n",
    "    file.truncate()\n",
    "\"\"\""
   ]
  },
  {
   "cell_type": "code",
   "execution_count": null,
   "id": "3e5d1c58",
   "metadata": {},
   "outputs": [],
   "source": [
    "#para um unico arquivo.bin\n",
    "with open('loggers/coletasJuntas.bin', 'r') as file:\n",
    "    f = csv.reader(file)\n",
    "    header = next(f)\n",
    "    newHeader = [i.strip() for i in header[0:-1]]\n",
    "    idSmart = header[-1][11:]\n",
    "    print(newHeader, idSmart)\n",
    "\n",
    "    with open('data/log.csv', 'w') as file:\n",
    "        w = csv.writer(file)\n",
    "        w.writerow(newHeader)\n",
    "        for row in f:\n",
    "            w.writerow(row)"
   ]
  },
  {
   "cell_type": "code",
   "execution_count": null,
   "id": "b249190a",
   "metadata": {},
   "outputs": [],
   "source": [
    "#para multiplos arquivos.bin\n",
    "filenames = []\n",
    "i = 0\n",
    "\n",
    "for filename in os.listdir(\"loggers\"):\n",
    "    filenames.append(filename)\n",
    "    \n",
    "    with open('loggers/'+filename, 'r') as file:\n",
    "        f = csv.reader(file)\n",
    "        header = next(f)\n",
    "        if not i:\n",
    "            idSmart = header[-1][11:]\n",
    "            header = [j.strip() for j in header[0:-1]] \n",
    "            print(header, idSmart)\n",
    "            \n",
    "        if not i:\n",
    "            with open('data/log2.csv', 'w') as new_file:\n",
    "                w = csv.writer(new_file)\n",
    "                w.writerow(header)\n",
    "                for row in f:\n",
    "                    w.writerow(row)\n",
    "        else:\n",
    "            with open('data/log2.csv', 'a') as new_file:\n",
    "                w = csv.writer(new_file)\n",
    "                for row in f:\n",
    "                    w.writerow(row)\n",
    "    i +=1"
   ]
  },
  {
   "cell_type": "code",
   "execution_count": null,
   "id": "1bb6a7b3-8d30-4ee6-a6a2-3cc25623bd01",
   "metadata": {},
   "outputs": [],
   "source": [
    "#definicao de variaveis\n",
    "items = ['battery', 'fileSize', 'pressure', 'lux', 'heartRate',\n",
    "         'ecg', 'ppg', 'saturation', 'accelerometerZ', 'accelerometerX',\n",
    "         'accelerometerY', 'gyroscopeZ', 'gyroscopeX', 'gyroscopeY']\n",
    "units = {'battery': 'bateria (%)',\n",
    "             'fileSize': 'armazenamento (MB)',\n",
    "             'pressure': 'pressao (hPa)',\n",
    "             'lux': 'luminosidade (lux)',\n",
    "             'heartRate': 'taxa de batimentos (bpm)',\n",
    "             'ecg': 'ecg cru (mV)',\n",
    "             'ppgGreen': 'ppg cru (mV)',\n",
    "             'ppgIR': 'ppg cru (mV)',\n",
    "             'ppgRed': 'ppg cru (mV)',\n",
    "             'saturation': 'oxigenacao crua (mV)',\n",
    "             'accelerometerZ': 'aceleracao (m/s²)',\n",
    "             'accelerometerX': 'aceleracao (m/s²)',\n",
    "             'accelerometerY': 'aceleracao (m/s²)',\n",
    "             'gyroscopeZ': 'giroscopio (rad/s)',\n",
    "             'gyroscopeX': 'giroscopio (rad/s)',\n",
    "             'gyroscopeY': 'giroscopio (rad/s)',\n",
    "             'sleepiness': 'nivel de sono'}"
   ]
  },
  {
   "cell_type": "code",
   "execution_count": null,
   "id": "0f200f55-206b-426c-a249-aace550c611a",
   "metadata": {},
   "outputs": [],
   "source": [
    "#json nao esta mais sendo utilizado\n",
    "\"\"\"\n",
    "#Processamento dos dados para arquivos json\n",
    "df = pd.read_json('data/logger.json')\n",
    "#removendo o id do smartwatch do dataframe\n",
    "df.drop(['ID_smartwatch'], axis=1, inplace=True)\n",
    "df.head()\n",
    "#print(df)\n",
    "\"\"\""
   ]
  },
  {
   "cell_type": "code",
   "execution_count": null,
   "id": "93af1f1c",
   "metadata": {},
   "outputs": [],
   "source": [
    "#Processamento dos dados caso arquivo seja em csv\n",
    "df = pd.read_csv('data/log.csv')\n",
    "df.head()"
   ]
  },
  {
   "cell_type": "code",
   "execution_count": null,
   "id": "fed62329-1b7a-4eae-b1d8-465e41071c0b",
   "metadata": {},
   "outputs": [],
   "source": [
    "#visao geral dos dados (quantidade, media, desvio padrao, minimo, q1, mediana, q3 e maximo)\n",
    "print(df.sleepiness.value_counts())\n",
    "df.describe()"
   ]
  },
  {
   "cell_type": "code",
   "execution_count": null,
   "id": "75cf15ab",
   "metadata": {},
   "outputs": [],
   "source": [
    "#checando a existencia de valores nulos/faltantes\n",
    "#df.isna().sum()\n",
    "df.info()"
   ]
  },
  {
   "cell_type": "code",
   "execution_count": null,
   "id": "6212de57",
   "metadata": {},
   "outputs": [],
   "source": [
    "\"\"\"cols = list(df.columns)\n",
    "for col in cols:\n",
    "    if df[col].dtype == 'float64':\n",
    "        df[col] = df[col].astype('int64')\n",
    "        print(df[col].dtype)\"\"\""
   ]
  },
  {
   "cell_type": "code",
   "execution_count": null,
   "id": "e8dbce6b",
   "metadata": {},
   "outputs": [],
   "source": [
    "#convertendo datetime para valor numerico\n",
    "time = []\n",
    "y, mo, d = map(int, str(df['dateTime'][0])[0:10].split('-'))\n",
    "h,m,s = map(int, str(df['dateTime'][0])[11:19].split(':'))\n",
    "startingTime = datetime.datetime(y, mo, d, h, m, s).timestamp()\n",
    "\n",
    "for val in range(len(df.dateTime)):\n",
    "    v = str(df.dateTime[val])\n",
    "    y, mo, d = map(int, v[0:10].split('-'))\n",
    "    h,m,s = map(int, v[11:19].split(':'))\n",
    "    ts = datetime.datetime(y, mo, d, h, m, s).timestamp()\n",
    "    ts = ts - startingTime\n",
    "    time.append(ts)\n",
    "    \n",
    "df.drop('dateTime', axis = 1, inplace=True)\n",
    "df['dateTime'] = time\n",
    "df.head()"
   ]
  },
  {
   "cell_type": "code",
   "execution_count": null,
   "id": "77de7f10",
   "metadata": {},
   "outputs": [],
   "source": [
    "#substituindo leituras erroneas por NaN\n",
    "df.ppgGreen.replace(0, np.nan, inplace=True)\n",
    "df.ppgRed.replace(0, np.nan, inplace=True)\n",
    "df.heartRate.replace(0, np.nan, inplace=True)\n",
    "df.ppgIR.replace(0, np.nan, inplace=True)\n",
    "df.saturation.replace(0, np.nan, inplace=True)\n",
    "hm = sns.heatmap(df.isnull(),cbar=False,yticklabels=False,cmap = 'Blues')\n",
    "figure = hm.get_figure()\n",
    "figure.savefig('graphs/missing.png', bbox_inches='tight', dpi=800)"
   ]
  },
  {
   "cell_type": "code",
   "execution_count": null,
   "id": "f3acae44",
   "metadata": {},
   "outputs": [],
   "source": [
    "#substituindo os valores faltantes pela media da coluna (caso nao existam nao e necessario executar essa celula)\n",
    "#obs: apenas valido para valores numericos\n",
    "num_col = ['heartRate', 'ppgRed', 'ppgGreen', 'ppgIR', 'saturation'] # lista com as colunas que possuem valores faltantes\n",
    "print(df.isna().sum())\n",
    "for col in num_col:\n",
    "    df[col]=pd.to_numeric(df[col])\n",
    "    df[col].fillna(df[col].mean(), inplace=True)"
   ]
  },
  {
   "cell_type": "code",
   "execution_count": null,
   "id": "f4cff4f4",
   "metadata": {},
   "outputs": [],
   "source": [
    "#visualizando as leituras de cada variavel\n",
    "items = ['pressure', 'lux', 'heartRate', 'ppgGreen', 'ppgRed', 'ppgIR', 'saturation', 'accelerometerZ', 'accelerometerX',\n",
    "         'accelerometerY', 'gyroscopeZ', 'gyroscopeX', 'gyroscopeY', 'sleepiness']\n",
    "for var in items:\n",
    "    y = df[var]\n",
    "    #x = range(5000)\n",
    "    x = range(y.size)\n",
    "    plt.figure()\n",
    "    plt.title(f\"{var} x index\")\n",
    "    plt.xlabel(\"Leituras\")\n",
    "    plt.ylabel(f\"{units[var]}\")\n",
    "    plt.plot(x,y)\n",
    "    plt.savefig(f'graphs/linePlot_{y.name}.png', bbox_inches='tight')"
   ]
  },
  {
   "cell_type": "code",
   "execution_count": null,
   "id": "14c3562b-db9f-4a30-b4cd-0381c6b7e2e3",
   "metadata": {},
   "outputs": [],
   "source": [
    "for var in items:\n",
    "    y = list(df[var])\n",
    "    plt.figure()\n",
    "    plt.title(f\"{var} boxplot\")\n",
    "    plt.ylabel(f\"{units[var]}\")\n",
    "    plt.boxplot(y)\n",
    "    plt.savefig(f'graphs/boxplot_{var}.png', bbox_inches='tight')"
   ]
  },
  {
   "cell_type": "code",
   "execution_count": null,
   "id": "9189be6e",
   "metadata": {},
   "outputs": [],
   "source": [
    "#visualizando a distribuicao dos dados\n",
    "for var in items:\n",
    "    #nCols = len(df.columns)\n",
    "    #nRows = df.dateTime.size\n",
    "    #plt.subplot(nRows+1,nCols,1)\n",
    "    plt.figure()\n",
    "    plt.title(f\"{var} distribution\")\n",
    "    sns.distplot(df[var],kde=True)\n",
    "    plt.savefig(f'graphs/distribution_{var}.png', bbox_inches='tight')"
   ]
  },
  {
   "cell_type": "code",
   "execution_count": null,
   "id": "f47eec98-55c1-4ed7-9832-83c07aa97183",
   "metadata": {},
   "outputs": [],
   "source": [
    "#calculando a covariancia entre variaveis\n",
    "covariance = np.cov([df.ppgGreen, df.heartRate, df.lux])\n",
    "print(covariance)"
   ]
  },
  {
   "cell_type": "code",
   "execution_count": null,
   "id": "26194f2c",
   "metadata": {},
   "outputs": [],
   "source": [
    "#normalizando a covariancia para que se torne interpretavel(correlacao de pearson)\n",
    "#metodo mais apropriado para distrubuicoes gaussianas\n",
    "items = [df.ppgGreen, df.heartRate, df.lux]\n",
    "for pair in itertools.combinations(items, 2):\n",
    "    pCorr, _ = pearsonr(*pair)\n",
    "    print(f\"A correlacao de Pearson entre {pair[0].name} e {pair[1].name} eh: {pCorr:.3f}\")"
   ]
  },
  {
   "cell_type": "code",
   "execution_count": null,
   "id": "f3bb4eef",
   "metadata": {},
   "outputs": [],
   "source": [
    "#interpretando a covariancia pela correlacao de spearman (para distribuicoes nao gaussianas)\n",
    "items = [df.ppgGreen, df.heartRate, df.lux]\n",
    "for pair in itertools.combinations(items, 2):\n",
    "    sCorr, _ = spearmanr(*pair)\n",
    "    print(f\"A correlacao de Spearman entre {pair[0].name} e {pair[1].name} eh: {sCorr:.3f}\")"
   ]
  },
  {
   "cell_type": "code",
   "execution_count": null,
   "id": "0dcecad7",
   "metadata": {},
   "outputs": [],
   "source": [
    "#ddf = df.copy()\n",
    "#ddf.drop(['saturation'], axis=1, inplace=True)\n",
    "cor = sns.heatmap(df.corr(method='spearman'),cmap='Blues',annot=True, fmt='.2f', annot_kws={\"fontsize\":7})\n",
    "figure = cor.get_figure()    \n",
    "figure.savefig('graphs/correlation_spearman.png', bbox_inches='tight', dpi=800)"
   ]
  },
  {
   "cell_type": "code",
   "execution_count": null,
   "id": "ca80a27c",
   "metadata": {},
   "outputs": [],
   "source": [
    "#comparacao de variavel com classificador por scatter\n",
    "compare = [\"saturation\", \"ppgRed\", \"pressure\"]\n",
    "for var in items:\n",
    "    plt.figure()\n",
    "    plt.title(f\"{var} x sleepiness\")\n",
    "    plt.scatter(x=var, y='sleepiness', data=df)\n",
    "    plt.xlabel(f'{var}')\n",
    "    plt.ylabel('sleepiness')\n",
    "    plt.savefig(f'graphs/scatter_{var}.png', bbox_inches='tight')"
   ]
  },
  {
   "cell_type": "code",
   "execution_count": null,
   "id": "2f69eae2",
   "metadata": {},
   "outputs": [],
   "source": [
    "#comparacao de variavel com classificador por boxplot\n",
    "compare = [\"saturation\", \"ppgRed\", \"pressure\"]\n",
    "for var in compare:\n",
    "    plt.figure()\n",
    "    plt.title(f\"{var} x sleepiness\")\n",
    "    sns.boxplot(x='sleepiness',y=var,data=df)\n",
    "    plt.ylabel(f'{var}')\n",
    "    plt.xlabel('sleepiness')\n",
    "    plt.savefig(f'graphs/boxComparison_{var}.png', bbox_inches='tight')\n"
   ]
  },
  {
   "cell_type": "code",
   "execution_count": null,
   "id": "8b804f30",
   "metadata": {},
   "outputs": [],
   "source": [
    "#normalizacao por maximum absolute scaling\n",
    "def maxAbsoluteScale(df):\n",
    "    scaledDf = df.copy()\n",
    "    #Divide cada valor de uma coluna pelo valor maximo da mesma\n",
    "    for column in scaledDf.columns:\n",
    "        #as colunas de horario, tamanho de arquivo e bateria sao desconsideradas\n",
    "        if column != 'dateTime' and column != 'size' and column != 'battery':\n",
    "            scaledDf[column] = scaledDf[column]  / scaledDf[column].abs().max()\n",
    "    #retorna os valores em uma escala de -1 a 1\n",
    "    return scaledDf"
   ]
  },
  {
   "cell_type": "code",
   "execution_count": null,
   "id": "8ab81375",
   "metadata": {},
   "outputs": [],
   "source": [
    "#normalizacao por min-max\n",
    "def minMaxScale(df):\n",
    "    scaledDf = df.copy()\n",
    "    #aplicando a formula do min-max (x-min / range)\n",
    "    for column in scaledDf.columns:\n",
    "        #as colunas de horario, tamanho de arquivo e bateria sao desconsideradas\n",
    "        if column != 'dateTime' and column != 'size' and column != 'battery':\n",
    "            scaledDf[column] = (scaledDf[column] - scaledDf[column].min()) / (scaledDf[column].max() - scaledDf[column].min())\n",
    "    #retorna os valores em uma escala entre 0 e 1\n",
    "    return scaledDf"
   ]
  },
  {
   "cell_type": "code",
   "execution_count": null,
   "id": "bec71f1a",
   "metadata": {},
   "outputs": [],
   "source": [
    "#normalizacao por z-score (standardize)\n",
    "def standardize(df):\n",
    "    scaledDf = df.copy()\n",
    "    #aplicando a formula do z-score (x-media / desvio padrao)\n",
    "    for column in scaledDf.columns:\n",
    "        #as colunas de horario, tamanho de arquivo e bateria sao desconsideradas\n",
    "        if column != 'dateTime' and column != 'size' and column != 'battery':\n",
    "            scaledDf[column] = (scaledDf[column] - scaledDf[column].mean()) / scaledDf[column].std()\n",
    "    #retorna os valores com media = 0 e desvio padrao = 1\n",
    "    return scaledDf"
   ]
  },
  {
   "cell_type": "code",
   "execution_count": null,
   "id": "082aac1e",
   "metadata": {},
   "outputs": [],
   "source": [
    "#normalizacao por robust scaling (ideal para dados com muitos outliers)\n",
    "def robustScaling(df):\n",
    "    scaledDf = df.copy()\n",
    "    #aplicando a formula do robust scaling (x-mediana/(q3-q2)*) *interquartille range\n",
    "    for column in scaledDf.columns:\n",
    "        #as colunas de horario, tamanho de arquivo e bateria sao desconsideradas\n",
    "        if column != 'dateTime' and column != 'size' and column != 'battery':\n",
    "            scaledDf[column] = (scaledDf[column] - scaledDf[column].median())  / (scaledDf[column].quantile(0.75) - scaledDf[column].quantile(0.25))\n",
    "    return scaledDf"
   ]
  },
  {
   "cell_type": "code",
   "execution_count": null,
   "id": "400b1230",
   "metadata": {},
   "outputs": [],
   "source": [
    "#calculando o numero de outliers\n",
    "def outlierCount(df, var):\n",
    "    try:\n",
    "        q1= df[var].quantile(0.25)\n",
    "        q3 = df[var].quantile(0.75)\n",
    "        iqRange = q3 - q1\n",
    "        maxVal = q3 + 1.5 * iqRange\n",
    "        minVal = q1 - 1.5 * iqRange\n",
    "        count = len(df[(df[var] < minVal)]) + len(df[(df[var] > maxVal)])\n",
    "        return count, minVal, maxVal\n",
    "    except:\n",
    "        #print(f\"{var} falhou\")\n",
    "        return \"null\", \"null\", \"null\"\n",
    "\n",
    "for col in df.columns:\n",
    "    a, b, c = outlierCount(df, col)\n",
    "    print(f'{col}: {a},'.ljust(25) + f' |min = {b},'.ljust(35) + f' |max = {c}')"
   ]
  },
  {
   "cell_type": "code",
   "execution_count": null,
   "id": "0ad9411f",
   "metadata": {},
   "outputs": [],
   "source": [
    "#tratando outliers\n",
    "def removeOutliers(df, *args):\n",
    "    newDf = df.copy()\n",
    "    for var in args:\n",
    "        count, minVal, maxVal = outlierCount(df, var)\n",
    "        newDf = newDf[(newDf[var] > minVal) & (newDf[var] < maxVal)]\n",
    "    return newDf\n",
    "    \n",
    "noOutliers = removeOutliers(df, 'heartRate')\n",
    "print(outlierCount(noOutliers, 'heartRate'))"
   ]
  },
  {
   "cell_type": "code",
   "execution_count": null,
   "id": "805b872e",
   "metadata": {},
   "outputs": [],
   "source": [
    "maxAbsDf = maxAbsoluteScale(df)\n",
    "minMaxDf = minMaxScale(df)\n",
    "zScoreDf = standardize(df)\n",
    "robustDf = robustScaling(df)"
   ]
  },
  {
   "cell_type": "code",
   "execution_count": null,
   "id": "40bcff7f",
   "metadata": {
    "scrolled": true
   },
   "outputs": [],
   "source": [
    "y = list(noOutliers.heartRate)\n",
    "plt.boxplot(y)"
   ]
  },
  {
   "cell_type": "code",
   "execution_count": null,
   "id": "f73e1bdd",
   "metadata": {},
   "outputs": [],
   "source": [
    "y = df.heartRate\n",
    "x = range(0, len(df.dateTime))\n",
    "plt.plot(x,y)"
   ]
  },
  {
   "cell_type": "code",
   "execution_count": null,
   "id": "12a9ba4f",
   "metadata": {},
   "outputs": [],
   "source": [
    "y = zScoreDf.heartRate\n",
    "x = zScoreDf.dateTime\n",
    "plt.plot(x,y)"
   ]
  },
  {
   "cell_type": "code",
   "execution_count": null,
   "id": "1234c76d",
   "metadata": {},
   "outputs": [],
   "source": [
    "zScoreNoOut = standardize(noOutliers)\n",
    "y = zScoreNoOut.ppgGreen\n",
    "x = zScoreNoOut.dateTime\n",
    "plt.plot(x,y)"
   ]
  },
  {
   "cell_type": "code",
   "execution_count": null,
   "id": "f187579d",
   "metadata": {},
   "outputs": [],
   "source": [
    "#checando a correlacao apos processamento\n",
    "items = [zScoreNoOut.ecg, zScoreNoOut.heartRate, zScoreNoOut.lux]\n",
    "for pair in itertools.combinations(items, 2):\n",
    "    sCorr, _ = spearmanr(*pair)\n",
    "    print(f\"A correlacao de Spearman entre {pair[0].name} e {pair[1].name} eh: {sCorr:.3f}\")"
   ]
  },
  {
   "cell_type": "code",
   "execution_count": null,
   "id": "7700aa3c",
   "metadata": {},
   "outputs": [],
   "source": []
  }
 ],
 "metadata": {
  "kernelspec": {
   "display_name": "Python 3 (ipykernel)",
   "language": "python",
   "name": "python3"
  },
  "language_info": {
   "codemirror_mode": {
    "name": "ipython",
    "version": 3
   },
   "file_extension": ".py",
   "mimetype": "text/x-python",
   "name": "python",
   "nbconvert_exporter": "python",
   "pygments_lexer": "ipython3",
   "version": "3.9.7"
  }
 },
 "nbformat": 4,
 "nbformat_minor": 5
}
