{
 "cells": [
  {
   "cell_type": "code",
   "execution_count": null,
   "id": "c69a3007-849c-4d5d-a709-af4ced76c808",
   "metadata": {},
   "outputs": [],
   "source": [
    "#importando as dependencias necessarias\n",
    "import pandas as pd\n",
    "import json\n",
    "import matplotlib.pyplot as plt\n",
    "%matplotlib inline\n",
    "import seaborn as sns\n",
    "import numpy as np"
   ]
  },
  {
   "cell_type": "code",
   "execution_count": null,
   "id": "372a9f97-9627-435d-8e23-cac406bbb26a",
   "metadata": {},
   "outputs": [],
   "source": [
    "#formatando o arquivo de logger para ser compativel com o pandas\n",
    "#obs: o arquivo de logger sera sobreescrito (podendo nao ser necesssario executar essa celula para determinado arquivo)\n",
    "with open('data/loggerECG.json', 'r+') as file:\n",
    "    dic = file.read()\n",
    "    f = json.loads(dic)\n",
    "    for key in f:\n",
    "        f[key] = list(f[key][0][1:-1].split(', '))\n",
    "\n",
    "    for key in f:\n",
    "        d = {}\n",
    "        for i in range(len(f[key])):\n",
    "            d[i] = f[key][i]\n",
    "        f[key] = d\n",
    "    file.seek(0)\n",
    "    file.write(json.dumps(f))\n",
    "    file.truncate()"
   ]
  },
  {
   "cell_type": "code",
   "execution_count": null,
   "id": "1bb6a7b3-8d30-4ee6-a6a2-3cc25623bd01",
   "metadata": {},
   "outputs": [],
   "source": [
    "#definicao de variaveis\n",
    "items = ['battery', 'size', 'pressure', 'lux', 'heartbeat',\n",
    "         'ecg', 'ppg', 'saturation', 'accelerometerZ', 'accelerometerX',\n",
    "         'accelerometerY', 'gyroscopeZ', 'gyroscopeX', 'gyroscopeY']\n",
    "units = {'battery': 'bateria (%)',\n",
    "             'size': 'armazenamento (MB)',\n",
    "             'pressure': 'pressao (hPa)',\n",
    "             'lux': 'luminosidade (lux)',\n",
    "             'heartbeat': 'taxa de batimentos (bpm)',\n",
    "             'ecg': 'ecg cru (mV)',\n",
    "             'ppg': 'ppg cru (mV)',\n",
    "             'saturation': 'oxigenacao crua (mV)',\n",
    "             'accelerometerZ': 'aceleracao (m/s²)',\n",
    "             'accelerometerX': 'aceleracao (m/s²)',\n",
    "             'accelerometerY': 'aceleracao (m/s²)',\n",
    "             'gyroscopeZ': 'giroscopio (rad/s)',\n",
    "             'gyroscopeX': 'giroscopio (rad/s)',\n",
    "             'gyroscopeY': 'giroscopio (rad/s)'}"
   ]
  },
  {
   "cell_type": "code",
   "execution_count": null,
   "id": "0f200f55-206b-426c-a249-aace550c611a",
   "metadata": {},
   "outputs": [],
   "source": [
    "#removendo o id do smartwatch do dataframe\n",
    "df = pd.read_json('data/loggerECG.json')\n",
    "df.drop(['ID_Smartwatch'], axis=1, inplace=True)\n",
    "#print(df)"
   ]
  },
  {
   "cell_type": "code",
   "execution_count": null,
   "id": "fed62329-1b7a-4eae-b1d8-465e41071c0b",
   "metadata": {},
   "outputs": [],
   "source": [
    "#visao geral dos dados (quantidade, media, desvio padrao, minimo, q1, mediana, q3 e maximo)\n",
    "#df.head()\n",
    "df.describe()"
   ]
  },
  {
   "cell_type": "code",
   "execution_count": null,
   "id": "75cf15ab",
   "metadata": {},
   "outputs": [],
   "source": [
    "#checando a existencia de valores nulos/faltantes\n",
    "#df.isna().sum()\n",
    "df.info()"
   ]
  },
  {
   "cell_type": "code",
   "execution_count": null,
   "id": "77de7f10",
   "metadata": {},
   "outputs": [],
   "source": [
    "#substituindo os valores faltantes pela media da coluna (caso nao existam nao e necessario executar essa celula)\n",
    "#obs: apenas valido para valores numericos\n",
    "num_col = [] # lista com as colunas que possuem valores faltantes\n",
    "for col in num_col:\n",
    "    df[col]=pd.to_numeric(df[col])\n",
    "    df[col].fillna(df[col].mean(), inplace=True)\n",
    "df.isna().sum()"
   ]
  },
  {
   "cell_type": "code",
   "execution_count": null,
   "id": "14c3562b-db9f-4a30-b4cd-0381c6b7e2e3",
   "metadata": {},
   "outputs": [],
   "source": [
    "y = list(df.heartbeat)\n",
    "plt.boxplot(y)"
   ]
  },
  {
   "cell_type": "code",
   "execution_count": null,
   "id": "f47eec98-55c1-4ed7-9832-83c07aa97183",
   "metadata": {},
   "outputs": [],
   "source": []
  }
 ],
 "metadata": {
  "kernelspec": {
   "display_name": "Python 3 (ipykernel)",
   "language": "python",
   "name": "python3"
  },
  "language_info": {
   "codemirror_mode": {
    "name": "ipython",
    "version": 3
   },
   "file_extension": ".py",
   "mimetype": "text/x-python",
   "name": "python",
   "nbconvert_exporter": "python",
   "pygments_lexer": "ipython3",
   "version": "3.9.7"
  }
 },
 "nbformat": 4,
 "nbformat_minor": 5
}
