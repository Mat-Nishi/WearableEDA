{
 "cells": [
  {
   "cell_type": "code",
   "execution_count": 33,
   "id": "c69a3007-849c-4d5d-a709-af4ced76c808",
   "metadata": {},
   "outputs": [],
   "source": [
    "#importando as dependencias necessarias\n",
    "import pandas as pd\n",
    "import json\n",
    "import matplotlib.pyplot as plt\n",
    "%matplotlib inline\n",
    "import seaborn as sns\n",
    "import numpy as np\n",
    "from scipy.stats import pearsonr, spearmanr\n",
    "import itertools"
   ]
  },
  {
   "cell_type": "code",
   "execution_count": null,
   "id": "372a9f97-9627-435d-8e23-cac406bbb26a",
   "metadata": {},
   "outputs": [],
   "source": [
    "#formatando o arquivo de logger para ser compativel com o pandas\n",
    "#obs: o arquivo de logger sera sobreescrito (podendo nao ser necesssario executar essa celula para determinado arquivo)\n",
    "with open('data/loggerECG.json', 'r+') as file:\n",
    "    dic = file.read()\n",
    "    f = json.loads(dic)\n",
    "    for key in f:\n",
    "        f[key] = list(f[key][0][1:-1].split(', '))\n",
    "\n",
    "    for key in f:\n",
    "        d = {}\n",
    "        for i in range(len(f[key])):\n",
    "            d[i] = f[key][i]\n",
    "        f[key] = d\n",
    "    file.seek(0)\n",
    "    file.write(json.dumps(f))\n",
    "    file.truncate()"
   ]
  },
  {
   "cell_type": "code",
   "execution_count": 4,
   "id": "1bb6a7b3-8d30-4ee6-a6a2-3cc25623bd01",
   "metadata": {},
   "outputs": [],
   "source": [
    "#definicao de variaveis\n",
    "items = ['battery', 'size', 'pressure', 'lux', 'heartbeat',\n",
    "         'ecg', 'ppg', 'saturation', 'accelerometerZ', 'accelerometerX',\n",
    "         'accelerometerY', 'gyroscopeZ', 'gyroscopeX', 'gyroscopeY']\n",
    "units = {'battery': 'bateria (%)',\n",
    "             'size': 'armazenamento (MB)',\n",
    "             'pressure': 'pressao (hPa)',\n",
    "             'lux': 'luminosidade (lux)',\n",
    "             'heartbeat': 'taxa de batimentos (bpm)',\n",
    "             'ecg': 'ecg cru (mV)',\n",
    "             'ppg': 'ppg cru (mV)',\n",
    "             'saturation': 'oxigenacao crua (mV)',\n",
    "             'accelerometerZ': 'aceleracao (m/s²)',\n",
    "             'accelerometerX': 'aceleracao (m/s²)',\n",
    "             'accelerometerY': 'aceleracao (m/s²)',\n",
    "             'gyroscopeZ': 'giroscopio (rad/s)',\n",
    "             'gyroscopeX': 'giroscopio (rad/s)',\n",
    "             'gyroscopeY': 'giroscopio (rad/s)'}"
   ]
  },
  {
   "cell_type": "code",
   "execution_count": 5,
   "id": "0f200f55-206b-426c-a249-aace550c611a",
   "metadata": {},
   "outputs": [],
   "source": [
    "#removendo o id do smartwatch do dataframe\n",
    "df = pd.read_json('data/loggerECG.json')\n",
    "df.drop(['ID_Smartwatch'], axis=1, inplace=True)\n",
    "#print(df)"
   ]
  },
  {
   "cell_type": "code",
   "execution_count": 6,
   "id": "fed62329-1b7a-4eae-b1d8-465e41071c0b",
   "metadata": {},
   "outputs": [
    {
     "data": {
      "text/html": [
       "<div>\n",
       "<style scoped>\n",
       "    .dataframe tbody tr th:only-of-type {\n",
       "        vertical-align: middle;\n",
       "    }\n",
       "\n",
       "    .dataframe tbody tr th {\n",
       "        vertical-align: top;\n",
       "    }\n",
       "\n",
       "    .dataframe thead th {\n",
       "        text-align: right;\n",
       "    }\n",
       "</style>\n",
       "<table border=\"1\" class=\"dataframe\">\n",
       "  <thead>\n",
       "    <tr style=\"text-align: right;\">\n",
       "      <th></th>\n",
       "      <th>battery</th>\n",
       "      <th>size</th>\n",
       "      <th>pressure</th>\n",
       "      <th>lux</th>\n",
       "      <th>heartbeat</th>\n",
       "      <th>ecg</th>\n",
       "      <th>ppg</th>\n",
       "      <th>saturation</th>\n",
       "      <th>accelerometerZ</th>\n",
       "      <th>accelerometerX</th>\n",
       "      <th>accelerometerY</th>\n",
       "      <th>gyroscopeZ</th>\n",
       "      <th>gyroscopeX</th>\n",
       "      <th>gyroscopeY</th>\n",
       "    </tr>\n",
       "  </thead>\n",
       "  <tbody>\n",
       "    <tr>\n",
       "      <th>count</th>\n",
       "      <td>7999.000000</td>\n",
       "      <td>7999.000000</td>\n",
       "      <td>7999.000000</td>\n",
       "      <td>7999.000000</td>\n",
       "      <td>7999.000000</td>\n",
       "      <td>7.999000e+03</td>\n",
       "      <td>7999.0</td>\n",
       "      <td>7999.0</td>\n",
       "      <td>7999.000000</td>\n",
       "      <td>7999.000000</td>\n",
       "      <td>7999.000000</td>\n",
       "      <td>7999.000000</td>\n",
       "      <td>7999.000000</td>\n",
       "      <td>7999.000000</td>\n",
       "    </tr>\n",
       "    <tr>\n",
       "      <th>mean</th>\n",
       "      <td>54.385548</td>\n",
       "      <td>0.643945</td>\n",
       "      <td>1007.855995</td>\n",
       "      <td>1.214652</td>\n",
       "      <td>68.066883</td>\n",
       "      <td>-4.899664e+05</td>\n",
       "      <td>0.0</td>\n",
       "      <td>0.0</td>\n",
       "      <td>0.131138</td>\n",
       "      <td>-2.693601</td>\n",
       "      <td>-0.621971</td>\n",
       "      <td>0.001596</td>\n",
       "      <td>0.011676</td>\n",
       "      <td>-0.000853</td>\n",
       "    </tr>\n",
       "    <tr>\n",
       "      <th>std</th>\n",
       "      <td>24.142180</td>\n",
       "      <td>0.370962</td>\n",
       "      <td>0.836306</td>\n",
       "      <td>3.714600</td>\n",
       "      <td>15.464021</td>\n",
       "      <td>1.364243e+05</td>\n",
       "      <td>0.0</td>\n",
       "      <td>0.0</td>\n",
       "      <td>3.663036</td>\n",
       "      <td>4.624406</td>\n",
       "      <td>7.472779</td>\n",
       "      <td>0.649539</td>\n",
       "      <td>0.329696</td>\n",
       "      <td>0.404720</td>\n",
       "    </tr>\n",
       "    <tr>\n",
       "      <th>min</th>\n",
       "      <td>9.000000</td>\n",
       "      <td>0.000000</td>\n",
       "      <td>1006.034900</td>\n",
       "      <td>0.000000</td>\n",
       "      <td>0.000000</td>\n",
       "      <td>-2.535798e+06</td>\n",
       "      <td>0.0</td>\n",
       "      <td>0.0</td>\n",
       "      <td>-15.655684</td>\n",
       "      <td>-27.126305</td>\n",
       "      <td>-15.174450</td>\n",
       "      <td>-13.927728</td>\n",
       "      <td>-3.120300</td>\n",
       "      <td>-4.902804</td>\n",
       "    </tr>\n",
       "    <tr>\n",
       "      <th>25%</th>\n",
       "      <td>35.000000</td>\n",
       "      <td>0.322403</td>\n",
       "      <td>1007.099240</td>\n",
       "      <td>0.000000</td>\n",
       "      <td>57.000000</td>\n",
       "      <td>-5.963120e+05</td>\n",
       "      <td>0.0</td>\n",
       "      <td>0.0</td>\n",
       "      <td>-3.423708</td>\n",
       "      <td>-6.142325</td>\n",
       "      <td>-9.481039</td>\n",
       "      <td>-0.025656</td>\n",
       "      <td>-0.012217</td>\n",
       "      <td>-0.010996</td>\n",
       "    </tr>\n",
       "    <tr>\n",
       "      <th>50%</th>\n",
       "      <td>54.000000</td>\n",
       "      <td>0.644951</td>\n",
       "      <td>1008.024400</td>\n",
       "      <td>0.000000</td>\n",
       "      <td>64.000000</td>\n",
       "      <td>-4.699840e+05</td>\n",
       "      <td>0.0</td>\n",
       "      <td>0.0</td>\n",
       "      <td>1.290475</td>\n",
       "      <td>-3.277662</td>\n",
       "      <td>0.040701</td>\n",
       "      <td>0.000000</td>\n",
       "      <td>0.000000</td>\n",
       "      <td>0.000000</td>\n",
       "    </tr>\n",
       "    <tr>\n",
       "      <th>75%</th>\n",
       "      <td>73.000000</td>\n",
       "      <td>0.965863</td>\n",
       "      <td>1008.540170</td>\n",
       "      <td>0.000000</td>\n",
       "      <td>78.000000</td>\n",
       "      <td>-3.756855e+05</td>\n",
       "      <td>0.0</td>\n",
       "      <td>0.0</td>\n",
       "      <td>2.513912</td>\n",
       "      <td>1.189918</td>\n",
       "      <td>6.900089</td>\n",
       "      <td>0.023213</td>\n",
       "      <td>0.010996</td>\n",
       "      <td>0.010996</td>\n",
       "    </tr>\n",
       "    <tr>\n",
       "      <th>max</th>\n",
       "      <td>98.000000</td>\n",
       "      <td>1.282929</td>\n",
       "      <td>1009.174300</td>\n",
       "      <td>36.000000</td>\n",
       "      <td>108.000000</td>\n",
       "      <td>2.176730e+05</td>\n",
       "      <td>0.0</td>\n",
       "      <td>0.0</td>\n",
       "      <td>17.223886</td>\n",
       "      <td>12.284649</td>\n",
       "      <td>25.713726</td>\n",
       "      <td>7.562512</td>\n",
       "      <td>5.137377</td>\n",
       "      <td>6.519154</td>\n",
       "    </tr>\n",
       "  </tbody>\n",
       "</table>\n",
       "</div>"
      ],
      "text/plain": [
       "           battery         size     pressure          lux    heartbeat  \\\n",
       "count  7999.000000  7999.000000  7999.000000  7999.000000  7999.000000   \n",
       "mean     54.385548     0.643945  1007.855995     1.214652    68.066883   \n",
       "std      24.142180     0.370962     0.836306     3.714600    15.464021   \n",
       "min       9.000000     0.000000  1006.034900     0.000000     0.000000   \n",
       "25%      35.000000     0.322403  1007.099240     0.000000    57.000000   \n",
       "50%      54.000000     0.644951  1008.024400     0.000000    64.000000   \n",
       "75%      73.000000     0.965863  1008.540170     0.000000    78.000000   \n",
       "max      98.000000     1.282929  1009.174300    36.000000   108.000000   \n",
       "\n",
       "                ecg     ppg  saturation  accelerometerZ  accelerometerX  \\\n",
       "count  7.999000e+03  7999.0      7999.0     7999.000000     7999.000000   \n",
       "mean  -4.899664e+05     0.0         0.0        0.131138       -2.693601   \n",
       "std    1.364243e+05     0.0         0.0        3.663036        4.624406   \n",
       "min   -2.535798e+06     0.0         0.0      -15.655684      -27.126305   \n",
       "25%   -5.963120e+05     0.0         0.0       -3.423708       -6.142325   \n",
       "50%   -4.699840e+05     0.0         0.0        1.290475       -3.277662   \n",
       "75%   -3.756855e+05     0.0         0.0        2.513912        1.189918   \n",
       "max    2.176730e+05     0.0         0.0       17.223886       12.284649   \n",
       "\n",
       "       accelerometerY   gyroscopeZ   gyroscopeX   gyroscopeY  \n",
       "count     7999.000000  7999.000000  7999.000000  7999.000000  \n",
       "mean        -0.621971     0.001596     0.011676    -0.000853  \n",
       "std          7.472779     0.649539     0.329696     0.404720  \n",
       "min        -15.174450   -13.927728    -3.120300    -4.902804  \n",
       "25%         -9.481039    -0.025656    -0.012217    -0.010996  \n",
       "50%          0.040701     0.000000     0.000000     0.000000  \n",
       "75%          6.900089     0.023213     0.010996     0.010996  \n",
       "max         25.713726     7.562512     5.137377     6.519154  "
      ]
     },
     "execution_count": 6,
     "metadata": {},
     "output_type": "execute_result"
    }
   ],
   "source": [
    "#visao geral dos dados (quantidade, media, desvio padrao, minimo, q1, mediana, q3 e maximo)\n",
    "#df.head()\n",
    "df.describe()"
   ]
  },
  {
   "cell_type": "code",
   "execution_count": 7,
   "id": "75cf15ab",
   "metadata": {},
   "outputs": [
    {
     "name": "stdout",
     "output_type": "stream",
     "text": [
      "<class 'pandas.core.frame.DataFrame'>\n",
      "Int64Index: 7999 entries, 0 to 7998\n",
      "Data columns (total 15 columns):\n",
      " #   Column          Non-Null Count  Dtype                                \n",
      "---  ------          --------------  -----                                \n",
      " 0   datetime        7999 non-null   datetime64[ns, pytz.FixedOffset(180)]\n",
      " 1   battery         7999 non-null   int64                                \n",
      " 2   size            7999 non-null   float64                              \n",
      " 3   pressure        7999 non-null   float64                              \n",
      " 4   lux             7999 non-null   int64                                \n",
      " 5   heartbeat       7999 non-null   int64                                \n",
      " 6   ecg             7999 non-null   int64                                \n",
      " 7   ppg             7999 non-null   int64                                \n",
      " 8   saturation      7999 non-null   int64                                \n",
      " 9   accelerometerZ  7999 non-null   float64                              \n",
      " 10  accelerometerX  7999 non-null   float64                              \n",
      " 11  accelerometerY  7999 non-null   float64                              \n",
      " 12  gyroscopeZ      7999 non-null   float64                              \n",
      " 13  gyroscopeX      7999 non-null   float64                              \n",
      " 14  gyroscopeY      7999 non-null   float64                              \n",
      "dtypes: datetime64[ns, pytz.FixedOffset(180)](1), float64(8), int64(6)\n",
      "memory usage: 999.9 KB\n"
     ]
    }
   ],
   "source": [
    "#checando a existencia de valores nulos/faltantes\n",
    "#df.isna().sum()\n",
    "df.info()"
   ]
  },
  {
   "cell_type": "code",
   "execution_count": 8,
   "id": "77de7f10",
   "metadata": {},
   "outputs": [
    {
     "data": {
      "text/plain": [
       "datetime          0\n",
       "battery           0\n",
       "size              0\n",
       "pressure          0\n",
       "lux               0\n",
       "heartbeat         0\n",
       "ecg               0\n",
       "ppg               0\n",
       "saturation        0\n",
       "accelerometerZ    0\n",
       "accelerometerX    0\n",
       "accelerometerY    0\n",
       "gyroscopeZ        0\n",
       "gyroscopeX        0\n",
       "gyroscopeY        0\n",
       "dtype: int64"
      ]
     },
     "execution_count": 8,
     "metadata": {},
     "output_type": "execute_result"
    }
   ],
   "source": [
    "#substituindo os valores faltantes pela media da coluna (caso nao existam nao e necessario executar essa celula)\n",
    "#obs: apenas valido para valores numericos\n",
    "num_col = [] # lista com as colunas que possuem valores faltantes\n",
    "for col in num_col:\n",
    "    df[col]=pd.to_numeric(df[col])\n",
    "    df[col].fillna(df[col].mean(), inplace=True)\n",
    "df.isna().sum()"
   ]
  },
  {
   "cell_type": "code",
   "execution_count": 11,
   "id": "14c3562b-db9f-4a30-b4cd-0381c6b7e2e3",
   "metadata": {},
   "outputs": [
    {
     "data": {
      "text/plain": [
       "{'whiskers': [<matplotlib.lines.Line2D at 0x2aeaa29a8e0>,\n",
       "  <matplotlib.lines.Line2D at 0x2aeaa29abb0>],\n",
       " 'caps': [<matplotlib.lines.Line2D at 0x2aeaa29ae80>,\n",
       "  <matplotlib.lines.Line2D at 0x2aeaa288190>],\n",
       " 'boxes': [<matplotlib.lines.Line2D at 0x2aeaa29a610>],\n",
       " 'medians': [<matplotlib.lines.Line2D at 0x2aeaa288460>],\n",
       " 'fliers': [<matplotlib.lines.Line2D at 0x2aeaa288730>],\n",
       " 'means': []}"
      ]
     },
     "execution_count": 11,
     "metadata": {},
     "output_type": "execute_result"
    },
    {
     "data": {
      "image/png": "[encoded data removed]",
      "text/plain": [
       "<Figure size 432x288 with 1 Axes>"
      ]
     },
     "metadata": {
      "needs_background": "light"
     },
     "output_type": "display_data"
    }
   ],
   "source": [
    "y = list(df.ecg)\n",
    "plt.boxplot(y)"
   ]
  },
  {
   "cell_type": "code",
   "execution_count": 18,
   "id": "f47eec98-55c1-4ed7-9832-83c07aa97183",
   "metadata": {},
   "outputs": [
    {
     "name": "stdout",
     "output_type": "stream",
     "text": [
      "[[ 1.86115951e+10 -7.65764771e+05 -2.07042678e+05]\n",
      " [-7.65764771e+05  2.39135936e+02  2.25644113e+01]\n",
      " [-2.07042678e+05  2.25644113e+01  1.37982549e+01]]\n"
     ]
    }
   ],
   "source": [
    "#calculando a covariancia entre variaveis\n",
    "covariance = np.cov([df.ecg, df.heartbeat, df.lux])\n",
    "print(covariance)"
   ]
  },
  {
   "cell_type": "code",
   "execution_count": 36,
   "id": "38b26c03",
   "metadata": {},
   "outputs": [
    {
     "name": "stdout",
     "output_type": "stream",
     "text": [
      "A correlacao de Pearson entre ecg e heartbeat eh: -0.363\n",
      "A correlacao de Pearson entre ecg e lux eh: -0.409\n",
      "A correlacao de Pearson entre heartbeat e lux eh: 0.393\n"
     ]
    }
   ],
   "source": [
    "#normalizando a covariancia para que se torne interpretavel(correlacao de pearson)\n",
    "#metodo mais apropriado para distrubuicoes gaussianas\n",
    "items = [df.ecg, df.heartbeat, df.lux]\n",
    "for pair in itertools.combinations(items, 2):\n",
    "    pCorr, _ = pearsonr(*pair)\n",
    "    print(f\"A correlacao de Pearson entre {pair[0].name} e {pair[1].name} eh: {pCorr:.3f}\")"
   ]
  },
  {
   "cell_type": "code",
   "execution_count": 37,
   "id": "624475d8",
   "metadata": {},
   "outputs": [
    {
     "name": "stdout",
     "output_type": "stream",
     "text": [
      "A correlacao de Spearman entre ecg e heartbeat eh: -0.343\n",
      "A correlacao de Spearman entre ecg e lux eh: -0.508\n",
      "A correlacao de Spearman entre heartbeat e lux eh: 0.479\n"
     ]
    }
   ],
   "source": [
    "#interpretando a covariancia pela correlacao de spearman (para distribuicoes nao gaussianas)\n",
    "items = [df.ecg, df.heartbeat, df.lux]\n",
    "for pair in itertools.combinations(items, 2):\n",
    "    sCorr, _ = spearmanr(*pair)\n",
    "    print(f\"A correlacao de Spearman entre {pair[0].name} e {pair[1].name} eh: {sCorr:.3f}\")"
   ]
  },
  {
   "cell_type": "code",
   "execution_count": null,
   "id": "3d8e317b",
   "metadata": {},
   "outputs": [],
   "source": []
  }
 ],
 "metadata": {
  "kernelspec": {
   "display_name": "Python 3 (ipykernel)",
   "language": "python",
   "name": "python3"
  },
  "language_info": {
   "codemirror_mode": {
    "name": "ipython",
    "version": 3
   },
   "file_extension": ".py",
   "mimetype": "text/x-python",
   "name": "python",
   "nbconvert_exporter": "python",
   "pygments_lexer": "ipython3",
   "version": "3.9.7"
  }
 },
 "nbformat": 4,
 "nbformat_minor": 5
}
